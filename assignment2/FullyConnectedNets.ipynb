{
 "cells": [
  {
   "cell_type": "markdown",
   "metadata": {
    "toc": "true"
   },
   "source": [
    "# Table of Contents\n",
    " <p><div class=\"lev1 toc-item\"><a href=\"#Fully-Connected-Neural-Nets\" data-toc-modified-id=\"Fully-Connected-Neural-Nets-1\"><span class=\"toc-item-num\">1&nbsp;&nbsp;</span>Fully-Connected Neural Nets</a></div><div class=\"lev1 toc-item\"><a href=\"#Affine-layer:-foward\" data-toc-modified-id=\"Affine-layer:-foward-2\"><span class=\"toc-item-num\">2&nbsp;&nbsp;</span>Affine layer: foward</a></div><div class=\"lev1 toc-item\"><a href=\"#Affine-layer:-backward\" data-toc-modified-id=\"Affine-layer:-backward-3\"><span class=\"toc-item-num\">3&nbsp;&nbsp;</span>Affine layer: backward</a></div><div class=\"lev1 toc-item\"><a href=\"#ReLU-layer:-forward\" data-toc-modified-id=\"ReLU-layer:-forward-4\"><span class=\"toc-item-num\">4&nbsp;&nbsp;</span>ReLU layer: forward</a></div><div class=\"lev1 toc-item\"><a href=\"#ReLU-layer:-backward\" data-toc-modified-id=\"ReLU-layer:-backward-5\"><span class=\"toc-item-num\">5&nbsp;&nbsp;</span>ReLU layer: backward</a></div><div class=\"lev1 toc-item\"><a href='#\"Sandwich\"-layers' data-toc-modified-id='\"Sandwich\"-layers-6'><span class=\"toc-item-num\">6&nbsp;&nbsp;</span>\"Sandwich\" layers</a></div><div class=\"lev1 toc-item\"><a href=\"#Loss-layers:-Softmax-and-SVM\" data-toc-modified-id=\"Loss-layers:-Softmax-and-SVM-7\"><span class=\"toc-item-num\">7&nbsp;&nbsp;</span>Loss layers: Softmax and SVM</a></div><div class=\"lev1 toc-item\"><a href=\"#Two-layer-network\" data-toc-modified-id=\"Two-layer-network-8\"><span class=\"toc-item-num\">8&nbsp;&nbsp;</span>Two-layer network</a></div><div class=\"lev1 toc-item\"><a href=\"#Solver\" data-toc-modified-id=\"Solver-9\"><span class=\"toc-item-num\">9&nbsp;&nbsp;</span>Solver</a></div><div class=\"lev1 toc-item\"><a href=\"#Multilayer-network\" data-toc-modified-id=\"Multilayer-network-10\"><span class=\"toc-item-num\">10&nbsp;&nbsp;</span>Multilayer network</a></div><div class=\"lev2 toc-item\"><a href=\"#Initial-loss-and-gradient-check\" data-toc-modified-id=\"Initial-loss-and-gradient-check-101\"><span class=\"toc-item-num\">10.1&nbsp;&nbsp;</span>Initial loss and gradient check</a></div><div class=\"lev1 toc-item\"><a href=\"#Inline-question:\" data-toc-modified-id=\"Inline-question:-11\"><span class=\"toc-item-num\">11&nbsp;&nbsp;</span>Inline question:</a></div><div class=\"lev1 toc-item\"><a href=\"#Answer:\" data-toc-modified-id=\"Answer:-12\"><span class=\"toc-item-num\">12&nbsp;&nbsp;</span>Answer:</a></div><div class=\"lev1 toc-item\"><a href=\"#Update-rules\" data-toc-modified-id=\"Update-rules-13\"><span class=\"toc-item-num\">13&nbsp;&nbsp;</span>Update rules</a></div><div class=\"lev1 toc-item\"><a href=\"#SGD+Momentum\" data-toc-modified-id=\"SGD+Momentum-14\"><span class=\"toc-item-num\">14&nbsp;&nbsp;</span>SGD+Momentum</a></div><div class=\"lev1 toc-item\"><a href=\"#RMSProp-and-Adam\" data-toc-modified-id=\"RMSProp-and-Adam-15\"><span class=\"toc-item-num\">15&nbsp;&nbsp;</span>RMSProp and Adam</a></div><div class=\"lev1 toc-item\"><a href=\"#Train-a-good-model!\" data-toc-modified-id=\"Train-a-good-model!-16\"><span class=\"toc-item-num\">16&nbsp;&nbsp;</span>Train a good model!</a></div><div class=\"lev1 toc-item\"><a href=\"#Test-you-model\" data-toc-modified-id=\"Test-you-model-17\"><span class=\"toc-item-num\">17&nbsp;&nbsp;</span>Test you model</a></div>"
   ]
  },
  {
   "cell_type": "markdown",
   "metadata": {
    "deletable": true,
    "editable": true
   },
   "source": [
    "# Fully-Connected Neural Nets\n",
    "In the previous homework you implemented a fully-connected two-layer neural network on CIFAR-10. The implementation was simple but not very modular since the loss and gradient were computed in a single monolithic function. This is manageable for a simple two-layer network, but would become impractical as we move to bigger models. Ideally we want to build networks using a more modular design so that we can implement different layer types in isolation and then snap them together into models with different architectures.\n",
    "\n",
    "In this exercise we will implement fully-connected networks using a more modular approach. For each layer we will implement a `forward` and a `backward` function. The `forward` function will receive inputs, weights, and other parameters and will return both an output and a `cache` object storing data needed for the backward pass, like this:\n",
    "\n",
    "```python\n",
    "def layer_forward(x, w):\n",
    "  \"\"\" Receive inputs x and weights w \"\"\"\n",
    "  # Do some computations ...\n",
    "  z = # ... some intermediate value\n",
    "  # Do some more computations ...\n",
    "  out = # the output\n",
    "   \n",
    "  cache = (x, w, z, out) # Values we need to compute gradients\n",
    "   \n",
    "  return out, cache\n",
    "```\n",
    "\n",
    "The backward pass will receive upstream derivatives and the `cache` object, and will return gradients with respect to the inputs and weights, like this:\n",
    "\n",
    "```python\n",
    "def layer_backward(dout, cache):\n",
    "  \"\"\"\n",
    "  Receive derivative of loss with respect to outputs and cache,\n",
    "  and compute derivative with respect to inputs.\n",
    "  \"\"\"\n",
    "  # Unpack cache values\n",
    "  x, w, z, out = cache\n",
    "  \n",
    "  # Use values in cache to compute derivatives\n",
    "  dx = # Derivative of loss with respect to x\n",
    "  dw = # Derivative of loss with respect to w\n",
    "  \n",
    "  return dx, dw\n",
    "```\n",
    "\n",
    "After implementing a bunch of layers this way, we will be able to easily combine them to build classifiers with different architectures.\n",
    "\n",
    "In addition to implementing fully-connected networks of arbitrary depth, we will also explore different update rules for optimization, and introduce Dropout as a regularizer and Batch Normalization as a tool to more efficiently optimize deep networks.\n",
    "  "
   ]
  },
  {
   "cell_type": "code",
   "execution_count": 1,
   "metadata": {
    "collapsed": false,
    "deletable": true,
    "editable": true,
    "init_cell": true
   },
   "outputs": [
    {
     "name": "stdout",
     "output_type": "stream",
     "text": [
      "run the following from the cs231n directory and try again:\n",
      "python setup.py build_ext --inplace\n",
      "You may also need to restart your iPython kernel\n"
     ]
    }
   ],
   "source": [
    "# As usual, a bit of setup\n",
    "from __future__ import print_function\n",
    "import time\n",
    "import numpy as np\n",
    "import matplotlib.pyplot as plt\n",
    "from cs231n.classifiers.fc_net import *\n",
    "from cs231n.data_utils import get_CIFAR10_data\n",
    "from cs231n.gradient_check import eval_numerical_gradient, eval_numerical_gradient_array\n",
    "from cs231n.solver import Solver\n",
    "\n",
    "%matplotlib inline\n",
    "plt.rcParams['figure.figsize'] = (10.0, 8.0) # set default size of plots\n",
    "plt.rcParams['image.interpolation'] = 'nearest'\n",
    "plt.rcParams['image.cmap'] = 'gray'\n",
    "\n",
    "# for auto-reloading external modules\n",
    "# see http://stackoverflow.com/questions/1907993/autoreload-of-modules-in-ipython\n",
    "%load_ext autoreload\n",
    "%autoreload 2\n",
    "\n",
    "def rel_error(x, y):\n",
    "  \"\"\" returns relative error \"\"\"\n",
    "  return np.max(np.abs(x - y) / (np.maximum(1e-8, np.abs(x) + np.abs(y))))"
   ]
  },
  {
   "cell_type": "code",
   "execution_count": 2,
   "metadata": {
    "collapsed": false,
    "deletable": true,
    "editable": true,
    "init_cell": true
   },
   "outputs": [
    {
     "name": "stdout",
     "output_type": "stream",
     "text": [
      "('X_train: ', (49000, 3, 32, 32))\n",
      "('y_train: ', (49000,))\n",
      "('X_val: ', (1000, 3, 32, 32))\n",
      "('y_val: ', (1000,))\n",
      "('X_test: ', (1000, 3, 32, 32))\n",
      "('y_test: ', (1000,))\n"
     ]
    }
   ],
   "source": [
    "# Load the (preprocessed) CIFAR10 data.\n",
    "\n",
    "data = get_CIFAR10_data()\n",
    "for k, v in list(data.items()):\n",
    "  print(('%s: ' % k, v.shape))"
   ]
  },
  {
   "cell_type": "markdown",
   "metadata": {
    "deletable": true,
    "editable": true
   },
   "source": [
    "# Affine layer: foward\n",
    "Open the file `cs231n/layers.py` and implement the `affine_forward` function.\n",
    "\n",
    "Once you are done you can test your implementaion by running the following:"
   ]
  },
  {
   "cell_type": "code",
   "execution_count": 9,
   "metadata": {
    "collapsed": false,
    "deletable": true,
    "editable": true
   },
   "outputs": [
    {
     "name": "stdout",
     "output_type": "stream",
     "text": [
      "Testing affine_forward function:\n",
      "difference:  9.76984772881e-10\n"
     ]
    }
   ],
   "source": [
    "# Test the affine_forward function\n",
    "\n",
    "num_inputs = 2\n",
    "input_shape = (4, 5, 6)\n",
    "output_dim = 3\n",
    "\n",
    "input_size = num_inputs * np.prod(input_shape)\n",
    "weight_size = output_dim * np.prod(input_shape)\n",
    "\n",
    "x = np.linspace(-0.1, 0.5, num=input_size).reshape(num_inputs, *input_shape)\n",
    "w = np.linspace(-0.2, 0.3, num=weight_size).reshape(np.prod(input_shape), output_dim)\n",
    "b = np.linspace(-0.3, 0.1, num=output_dim)\n",
    "\n",
    "out, _ = affine_forward(x, w, b)\n",
    "correct_out = np.array([[ 1.49834967,  1.70660132,  1.91485297],\n",
    "                        [ 3.25553199,  3.5141327,   3.77273342]])\n",
    "\n",
    "# Compare your output with ours. The error should be around 1e-9.\n",
    "print('Testing affine_forward function:')\n",
    "print('difference: ', rel_error(out, correct_out))"
   ]
  },
  {
   "cell_type": "markdown",
   "metadata": {
    "deletable": true,
    "editable": true
   },
   "source": [
    "# Affine layer: backward\n",
    "Now implement the `affine_backward` function and test your implementation using numeric gradient checking."
   ]
  },
  {
   "cell_type": "code",
   "execution_count": 20,
   "metadata": {
    "collapsed": false,
    "deletable": true,
    "editable": true
   },
   "outputs": [
    {
     "name": "stdout",
     "output_type": "stream",
     "text": [
      "Testing affine_backward function:\n",
      "dx error:  1.09081995087e-10\n",
      "dw error:  2.17526355046e-10\n",
      "db error:  7.73697883449e-12\n"
     ]
    }
   ],
   "source": [
    "# Test the affine_backward function\n",
    "np.random.seed(231)\n",
    "x = np.random.randn(10, 2, 3)\n",
    "w = np.random.randn(6, 5)\n",
    "b = np.random.randn(5)\n",
    "dout = np.random.randn(10, 5)\n",
    "\n",
    "dx_num = eval_numerical_gradient_array(lambda x: affine_forward(x, w, b)[0], x, dout)\n",
    "dw_num = eval_numerical_gradient_array(lambda w: affine_forward(x, w, b)[0], w, dout)\n",
    "db_num = eval_numerical_gradient_array(lambda b: affine_forward(x, w, b)[0], b, dout)\n",
    "\n",
    "_, cache = affine_forward(x, w, b)\n",
    "dx, dw, db = affine_backward(dout, cache)\n",
    "\n",
    "# The error should be around 1e-10\n",
    "print('Testing affine_backward function:')\n",
    "print('dx error: ', rel_error(dx_num, dx))\n",
    "print('dw error: ', rel_error(dw_num, dw))\n",
    "print('db error: ', rel_error(db_num, db))"
   ]
  },
  {
   "cell_type": "markdown",
   "metadata": {
    "deletable": true,
    "editable": true
   },
   "source": [
    "# ReLU layer: forward\n",
    "Implement the forward pass for the ReLU activation function in the `relu_forward` function and test your implementation using the following:"
   ]
  },
  {
   "cell_type": "code",
   "execution_count": 25,
   "metadata": {
    "collapsed": false,
    "deletable": true,
    "editable": true
   },
   "outputs": [
    {
     "name": "stdout",
     "output_type": "stream",
     "text": [
      "Testing relu_forward function:\n",
      "difference:  4.99999979802e-08\n"
     ]
    }
   ],
   "source": [
    "# Test the relu_forward function\n",
    "\n",
    "x = np.linspace(-0.5, 0.5, num=12).reshape(3, 4)\n",
    "\n",
    "out, _ = relu_forward(x)\n",
    "correct_out = np.array([[ 0.,          0.,          0.,          0.,        ],\n",
    "                        [ 0.,          0.,          0.04545455,  0.13636364,],\n",
    "                        [ 0.22727273,  0.31818182,  0.40909091,  0.5,       ]])\n",
    "\n",
    "# Compare your output with ours. The error should be around 5e-8\n",
    "print('Testing relu_forward function:')\n",
    "print('difference: ', rel_error(out, correct_out))"
   ]
  },
  {
   "cell_type": "markdown",
   "metadata": {
    "deletable": true,
    "editable": true
   },
   "source": [
    "# ReLU layer: backward\n",
    "Now implement the backward pass for the ReLU activation function in the `relu_backward` function and test your implementation using numeric gradient checking:"
   ]
  },
  {
   "cell_type": "code",
   "execution_count": 26,
   "metadata": {
    "collapsed": false,
    "deletable": true,
    "editable": true
   },
   "outputs": [
    {
     "name": "stdout",
     "output_type": "stream",
     "text": [
      "Testing relu_backward function:\n",
      "dx error:  3.27563491363e-12\n"
     ]
    }
   ],
   "source": [
    "np.random.seed(231)\n",
    "x = np.random.randn(10, 10)\n",
    "dout = np.random.randn(*x.shape)\n",
    "\n",
    "dx_num = eval_numerical_gradient_array(lambda x: relu_forward(x)[0], x, dout)\n",
    "\n",
    "_, cache = relu_forward(x)\n",
    "dx = relu_backward(dout, cache)\n",
    "\n",
    "# The error should be around 3e-12\n",
    "print('Testing relu_backward function:')\n",
    "print('dx error: ', rel_error(dx_num, dx))"
   ]
  },
  {
   "cell_type": "markdown",
   "metadata": {
    "deletable": true,
    "editable": true
   },
   "source": [
    "# \"Sandwich\" layers\n",
    "There are some common patterns of layers that are frequently used in neural nets. For example, affine layers are frequently followed by a ReLU nonlinearity. To make these common patterns easy, we define several convenience layers in the file `cs231n/layer_utils.py`.\n",
    "\n",
    "For now take a look at the `affine_relu_forward` and `affine_relu_backward` functions, and run the following to numerically gradient check the backward pass:"
   ]
  },
  {
   "cell_type": "code",
   "execution_count": 27,
   "metadata": {
    "collapsed": false,
    "deletable": true,
    "editable": true
   },
   "outputs": [
    {
     "name": "stdout",
     "output_type": "stream",
     "text": [
      "Testing affine_relu_forward:\n",
      "dx error:  6.39553504205e-11\n",
      "dw error:  8.16201110576e-11\n",
      "db error:  7.82672402146e-12\n"
     ]
    }
   ],
   "source": [
    "from cs231n.layer_utils import affine_relu_forward, affine_relu_backward\n",
    "np.random.seed(231)\n",
    "x = np.random.randn(2, 3, 4)\n",
    "w = np.random.randn(12, 10)\n",
    "b = np.random.randn(10)\n",
    "dout = np.random.randn(2, 10)\n",
    "\n",
    "out, cache = affine_relu_forward(x, w, b)\n",
    "dx, dw, db = affine_relu_backward(dout, cache)\n",
    "\n",
    "dx_num = eval_numerical_gradient_array(lambda x: affine_relu_forward(x, w, b)[0], x, dout)\n",
    "dw_num = eval_numerical_gradient_array(lambda w: affine_relu_forward(x, w, b)[0], w, dout)\n",
    "db_num = eval_numerical_gradient_array(lambda b: affine_relu_forward(x, w, b)[0], b, dout)\n",
    "\n",
    "print('Testing affine_relu_forward:')\n",
    "print('dx error: ', rel_error(dx_num, dx))\n",
    "print('dw error: ', rel_error(dw_num, dw))\n",
    "print('db error: ', rel_error(db_num, db))"
   ]
  },
  {
   "cell_type": "markdown",
   "metadata": {
    "deletable": true,
    "editable": true
   },
   "source": [
    "# Loss layers: Softmax and SVM\n",
    "You implemented these loss functions in the last assignment, so we'll give them to you for free here. You should still make sure you understand how they work by looking at the implementations in `cs231n/layers.py`.\n",
    "\n",
    "You can make sure that the implementations are correct by running the following:"
   ]
  },
  {
   "cell_type": "code",
   "execution_count": 28,
   "metadata": {
    "collapsed": false,
    "deletable": true,
    "editable": true
   },
   "outputs": [
    {
     "name": "stdout",
     "output_type": "stream",
     "text": [
      "Testing svm_loss:\n",
      "loss:  8.9996027491\n",
      "dx error:  1.40215660067e-09\n",
      "\n",
      "Testing softmax_loss:\n",
      "loss:  2.3025458445\n",
      "dx error:  9.38467316199e-09\n"
     ]
    }
   ],
   "source": [
    "np.random.seed(231)\n",
    "num_classes, num_inputs = 10, 50\n",
    "x = 0.001 * np.random.randn(num_inputs, num_classes)\n",
    "y = np.random.randint(num_classes, size=num_inputs)\n",
    "\n",
    "dx_num = eval_numerical_gradient(lambda x: svm_loss(x, y)[0], x, verbose=False)\n",
    "loss, dx = svm_loss(x, y)\n",
    "\n",
    "# Test svm_loss function. Loss should be around 9 and dx error should be 1e-9\n",
    "print('Testing svm_loss:')\n",
    "print('loss: ', loss)\n",
    "print('dx error: ', rel_error(dx_num, dx))\n",
    "\n",
    "dx_num = eval_numerical_gradient(lambda x: softmax_loss(x, y)[0], x, verbose=False)\n",
    "loss, dx = softmax_loss(x, y)\n",
    "\n",
    "# Test softmax_loss function. Loss should be 2.3 and dx error should be 1e-8\n",
    "print('\\nTesting softmax_loss:')\n",
    "print('loss: ', loss)\n",
    "print('dx error: ', rel_error(dx_num, dx))"
   ]
  },
  {
   "cell_type": "markdown",
   "metadata": {
    "deletable": true,
    "editable": true
   },
   "source": [
    "# Two-layer network\n",
    "In the previous assignment you implemented a two-layer neural network in a single monolithic class. Now that you have implemented modular versions of the necessary layers, you will reimplement the two layer network using these modular implementations.\n",
    "\n",
    "Open the file `cs231n/classifiers/fc_net.py` and complete the implementation of the `TwoLayerNet` class. This class will serve as a model for the other networks you will implement in this assignment, so read through it to make sure you understand the API. You can run the cell below to test your implementation."
   ]
  },
  {
   "cell_type": "code",
   "execution_count": 3,
   "metadata": {
    "collapsed": false,
    "deletable": true,
    "editable": true
   },
   "outputs": [
    {
     "name": "stdout",
     "output_type": "stream",
     "text": [
      "Testing initialization ... \n",
      "Testing test-time forward pass ... \n",
      "Testing training loss (no regularization)\n",
      "Running numeric gradient check with reg =  0.0\n",
      "W1 relative error: 1.22e-08\n",
      "W2 relative error: 3.50e-10\n",
      "b1 relative error: 8.37e-09\n",
      "b2 relative error: 2.53e-10\n",
      "Running numeric gradient check with reg =  0.7\n",
      "W1 relative error: 2.53e-07\n",
      "W2 relative error: 1.37e-07\n",
      "b1 relative error: 1.56e-08\n",
      "b2 relative error: 9.09e-10\n"
     ]
    }
   ],
   "source": [
    "np.random.seed(231)\n",
    "N, D, H, C = 3, 5, 50, 7\n",
    "X = np.random.randn(N, D)\n",
    "y = np.random.randint(C, size=N)\n",
    "\n",
    "std = 1e-3\n",
    "model = TwoLayerNet(input_dim=D, hidden_dim=H, num_classes=C, weight_scale=std)\n",
    "\n",
    "print('Testing initialization ... ')\n",
    "W1_std = abs(model.params['W1'].std() - std)\n",
    "b1 = model.params['b1']\n",
    "W2_std = abs(model.params['W2'].std() - std)\n",
    "b2 = model.params['b2']\n",
    "assert W1_std < std / 10, 'First layer weights do not seem right'\n",
    "assert np.all(b1 == 0), 'First layer biases do not seem right'\n",
    "assert W2_std < std / 10, 'Second layer weights do not seem right'\n",
    "assert np.all(b2 == 0), 'Second layer biases do not seem right'\n",
    "\n",
    "print('Testing test-time forward pass ... ')\n",
    "model.params['W1'] = np.linspace(-0.7, 0.3, num=D*H).reshape(D, H)\n",
    "model.params['b1'] = np.linspace(-0.1, 0.9, num=H)\n",
    "model.params['W2'] = np.linspace(-0.3, 0.4, num=H*C).reshape(H, C)\n",
    "model.params['b2'] = np.linspace(-0.9, 0.1, num=C)\n",
    "X = np.linspace(-5.5, 4.5, num=N*D).reshape(D, N).T\n",
    "scores = model.loss(X)\n",
    "correct_scores = np.asarray(\n",
    "  [[11.53165108,  12.2917344,   13.05181771,  13.81190102,  14.57198434, 15.33206765,  16.09215096],\n",
    "   [12.05769098,  12.74614105,  13.43459113,  14.1230412,   14.81149128, 15.49994135,  16.18839143],\n",
    "   [12.58373087,  13.20054771,  13.81736455,  14.43418138,  15.05099822, 15.66781506,  16.2846319 ]])\n",
    "scores_diff = np.abs(scores - correct_scores).sum()\n",
    "assert scores_diff < 1e-6, 'Problem with test-time forward pass'\n",
    "\n",
    "print('Testing training loss (no regularization)')\n",
    "y = np.asarray([0, 5, 1])\n",
    "loss, grads = model.loss(X, y)\n",
    "correct_loss = 3.4702243556\n",
    "assert abs(loss - correct_loss) < 1e-10, 'Problem with training-time loss'\n",
    "\n",
    "model.reg = 1.0\n",
    "loss, grads = model.loss(X, y)\n",
    "correct_loss = 26.5948426952\n",
    "assert abs(loss - correct_loss) < 1e-10, 'Problem with regularization loss'\n",
    "\n",
    "for reg in [0.0, 0.7]:\n",
    "  print('Running numeric gradient check with reg = ', reg)\n",
    "  model.reg = reg\n",
    "  loss, grads = model.loss(X, y)\n",
    "\n",
    "  for name in sorted(grads):\n",
    "    f = lambda _: model.loss(X, y)[0]\n",
    "    grad_num = eval_numerical_gradient(f, model.params[name], verbose=False)\n",
    "    print('%s relative error: %.2e' % (name, rel_error(grad_num, grads[name])))"
   ]
  },
  {
   "cell_type": "markdown",
   "metadata": {
    "deletable": true,
    "editable": true
   },
   "source": [
    "# Solver\n",
    "In the previous assignment, the logic for training models was coupled to the models themselves. Following a more modular design, for this assignment we have split the logic for training models into a separate class.\n",
    "\n",
    "Open the file `cs231n/solver.py` and read through it to familiarize yourself with the API. After doing so, use a `Solver` instance to train a `TwoLayerNet` that achieves at least `50%` accuracy on the validation set."
   ]
  },
  {
   "cell_type": "code",
   "execution_count": 5,
   "metadata": {
    "collapsed": false,
    "deletable": true,
    "editable": true
   },
   "outputs": [
    {
     "name": "stdout",
     "output_type": "stream",
     "text": [
      "(Iteration 1 / 4900) loss: 2.340128\n",
      "(Epoch 0 / 10) train acc: 0.165000; val_acc: 0.151000\n",
      "(Iteration 11 / 4900) loss: 2.173877\n",
      "(Iteration 21 / 4900) loss: 2.180460\n",
      "(Iteration 31 / 4900) loss: 2.090881\n",
      "(Iteration 41 / 4900) loss: 1.957560\n",
      "(Iteration 51 / 4900) loss: 1.830799\n",
      "(Iteration 61 / 4900) loss: 1.915777\n",
      "(Iteration 71 / 4900) loss: 1.888577\n",
      "(Iteration 81 / 4900) loss: 1.839697\n",
      "(Iteration 91 / 4900) loss: 1.926314\n",
      "(Iteration 101 / 4900) loss: 1.761835\n",
      "(Iteration 111 / 4900) loss: 1.762521\n",
      "(Iteration 121 / 4900) loss: 1.746240\n",
      "(Iteration 131 / 4900) loss: 1.764269\n",
      "(Iteration 141 / 4900) loss: 1.604026\n",
      "(Iteration 151 / 4900) loss: 1.795906\n",
      "(Iteration 161 / 4900) loss: 1.775338\n",
      "(Iteration 171 / 4900) loss: 1.683879\n",
      "(Iteration 181 / 4900) loss: 1.660288\n",
      "(Iteration 191 / 4900) loss: 1.588581\n",
      "(Iteration 201 / 4900) loss: 1.776520\n",
      "(Iteration 211 / 4900) loss: 1.737764\n",
      "(Iteration 221 / 4900) loss: 1.672229\n",
      "(Iteration 231 / 4900) loss: 1.496482\n",
      "(Iteration 241 / 4900) loss: 1.750440\n",
      "(Iteration 251 / 4900) loss: 1.631618\n",
      "(Iteration 261 / 4900) loss: 1.616913\n",
      "(Iteration 271 / 4900) loss: 1.786116\n",
      "(Iteration 281 / 4900) loss: 1.594331\n",
      "(Iteration 291 / 4900) loss: 1.551025\n",
      "(Iteration 301 / 4900) loss: 1.552665\n",
      "(Iteration 311 / 4900) loss: 1.706599\n",
      "(Iteration 321 / 4900) loss: 1.724321\n",
      "(Iteration 331 / 4900) loss: 1.616810\n",
      "(Iteration 341 / 4900) loss: 1.679501\n",
      "(Iteration 351 / 4900) loss: 1.621742\n",
      "(Iteration 361 / 4900) loss: 1.509000\n",
      "(Iteration 371 / 4900) loss: 1.672847\n",
      "(Iteration 381 / 4900) loss: 1.556547\n",
      "(Iteration 391 / 4900) loss: 1.513590\n",
      "(Iteration 401 / 4900) loss: 1.571787\n",
      "(Iteration 411 / 4900) loss: 1.702023\n",
      "(Iteration 421 / 4900) loss: 1.798267\n",
      "(Iteration 431 / 4900) loss: 1.601536\n",
      "(Iteration 441 / 4900) loss: 1.460650\n",
      "(Iteration 451 / 4900) loss: 1.496612\n",
      "(Iteration 461 / 4900) loss: 1.690765\n",
      "(Iteration 471 / 4900) loss: 1.657613\n",
      "(Iteration 481 / 4900) loss: 1.549218\n",
      "(Epoch 1 / 10) train acc: 0.473000; val_acc: 0.430000\n",
      "(Iteration 491 / 4900) loss: 1.484398\n",
      "(Iteration 501 / 4900) loss: 1.623855\n",
      "(Iteration 511 / 4900) loss: 1.736789\n",
      "(Iteration 521 / 4900) loss: 1.638260\n",
      "(Iteration 531 / 4900) loss: 1.636212\n",
      "(Iteration 541 / 4900) loss: 1.613983\n",
      "(Iteration 551 / 4900) loss: 1.368273\n",
      "(Iteration 561 / 4900) loss: 1.482585\n",
      "(Iteration 571 / 4900) loss: 1.529406\n",
      "(Iteration 581 / 4900) loss: 1.585955\n",
      "(Iteration 591 / 4900) loss: 1.520431\n",
      "(Iteration 601 / 4900) loss: 1.549922\n",
      "(Iteration 611 / 4900) loss: 1.590126\n",
      "(Iteration 621 / 4900) loss: 1.533226\n",
      "(Iteration 631 / 4900) loss: 1.433009\n",
      "(Iteration 641 / 4900) loss: 1.575297\n",
      "(Iteration 651 / 4900) loss: 1.515095\n",
      "(Iteration 661 / 4900) loss: 1.613916\n",
      "(Iteration 671 / 4900) loss: 1.649212\n",
      "(Iteration 681 / 4900) loss: 1.257878\n",
      "(Iteration 691 / 4900) loss: 1.373058\n",
      "(Iteration 701 / 4900) loss: 1.544090\n",
      "(Iteration 711 / 4900) loss: 1.684762\n",
      "(Iteration 721 / 4900) loss: 1.558768\n",
      "(Iteration 731 / 4900) loss: 1.417186\n",
      "(Iteration 741 / 4900) loss: 1.373642\n",
      "(Iteration 751 / 4900) loss: 1.555591\n",
      "(Iteration 761 / 4900) loss: 1.438631\n",
      "(Iteration 771 / 4900) loss: 1.459587\n",
      "(Iteration 781 / 4900) loss: 1.630303\n",
      "(Iteration 791 / 4900) loss: 1.833028\n",
      "(Iteration 801 / 4900) loss: 1.455416\n",
      "(Iteration 811 / 4900) loss: 1.567400\n",
      "(Iteration 821 / 4900) loss: 1.271951\n",
      "(Iteration 831 / 4900) loss: 1.369389\n",
      "(Iteration 841 / 4900) loss: 1.477770\n",
      "(Iteration 851 / 4900) loss: 1.614509\n",
      "(Iteration 861 / 4900) loss: 1.411199\n",
      "(Iteration 871 / 4900) loss: 1.533419\n",
      "(Iteration 881 / 4900) loss: 1.326914\n",
      "(Iteration 891 / 4900) loss: 1.599085\n",
      "(Iteration 901 / 4900) loss: 1.340891\n",
      "(Iteration 911 / 4900) loss: 1.259725\n",
      "(Iteration 921 / 4900) loss: 1.578046\n",
      "(Iteration 931 / 4900) loss: 1.339262\n",
      "(Iteration 941 / 4900) loss: 1.557076\n",
      "(Iteration 951 / 4900) loss: 1.392776\n",
      "(Iteration 961 / 4900) loss: 1.495942\n",
      "(Iteration 971 / 4900) loss: 1.627824\n",
      "(Epoch 2 / 10) train acc: 0.489000; val_acc: 0.450000\n",
      "(Iteration 981 / 4900) loss: 1.407035\n",
      "(Iteration 991 / 4900) loss: 1.458841\n",
      "(Iteration 1001 / 4900) loss: 1.591494\n",
      "(Iteration 1011 / 4900) loss: 1.793681\n",
      "(Iteration 1021 / 4900) loss: 1.628427\n",
      "(Iteration 1031 / 4900) loss: 1.282672\n",
      "(Iteration 1041 / 4900) loss: 1.298204\n",
      "(Iteration 1051 / 4900) loss: 1.494254\n",
      "(Iteration 1061 / 4900) loss: 1.415244\n",
      "(Iteration 1071 / 4900) loss: 1.498847\n",
      "(Iteration 1081 / 4900) loss: 1.219681\n",
      "(Iteration 1091 / 4900) loss: 1.590905\n",
      "(Iteration 1101 / 4900) loss: 1.452519\n",
      "(Iteration 1111 / 4900) loss: 1.390079\n",
      "(Iteration 1121 / 4900) loss: 1.435355\n",
      "(Iteration 1131 / 4900) loss: 1.472156\n",
      "(Iteration 1141 / 4900) loss: 1.304913\n",
      "(Iteration 1151 / 4900) loss: 1.575514\n",
      "(Iteration 1161 / 4900) loss: 1.622900\n",
      "(Iteration 1171 / 4900) loss: 1.355290\n",
      "(Iteration 1181 / 4900) loss: 1.625977\n",
      "(Iteration 1191 / 4900) loss: 1.569509\n",
      "(Iteration 1201 / 4900) loss: 1.234255\n",
      "(Iteration 1211 / 4900) loss: 1.275831\n",
      "(Iteration 1221 / 4900) loss: 1.550711\n",
      "(Iteration 1231 / 4900) loss: 1.600070\n",
      "(Iteration 1241 / 4900) loss: 1.507899\n",
      "(Iteration 1251 / 4900) loss: 1.368316\n",
      "(Iteration 1261 / 4900) loss: 1.467803\n",
      "(Iteration 1271 / 4900) loss: 1.232599\n",
      "(Iteration 1281 / 4900) loss: 1.448882\n",
      "(Iteration 1291 / 4900) loss: 1.444667\n",
      "(Iteration 1301 / 4900) loss: 1.343699\n",
      "(Iteration 1311 / 4900) loss: 1.380813\n",
      "(Iteration 1321 / 4900) loss: 1.601935\n",
      "(Iteration 1331 / 4900) loss: 1.322798\n",
      "(Iteration 1341 / 4900) loss: 1.568013\n",
      "(Iteration 1351 / 4900) loss: 1.499385\n",
      "(Iteration 1361 / 4900) loss: 1.232430\n",
      "(Iteration 1371 / 4900) loss: 1.484366\n",
      "(Iteration 1381 / 4900) loss: 1.469138\n",
      "(Iteration 1391 / 4900) loss: 1.404252\n",
      "(Iteration 1401 / 4900) loss: 1.422857\n",
      "(Iteration 1411 / 4900) loss: 1.324100\n",
      "(Iteration 1421 / 4900) loss: 1.418759\n",
      "(Iteration 1431 / 4900) loss: 1.536988\n",
      "(Iteration 1441 / 4900) loss: 1.287301\n",
      "(Iteration 1451 / 4900) loss: 1.415421\n",
      "(Iteration 1461 / 4900) loss: 1.505607\n",
      "(Epoch 3 / 10) train acc: 0.525000; val_acc: 0.484000\n",
      "(Iteration 1471 / 4900) loss: 1.642784\n",
      "(Iteration 1481 / 4900) loss: 1.627137\n",
      "(Iteration 1491 / 4900) loss: 1.277134\n",
      "(Iteration 1501 / 4900) loss: 1.644048\n",
      "(Iteration 1511 / 4900) loss: 1.401335\n",
      "(Iteration 1521 / 4900) loss: 1.463416\n",
      "(Iteration 1531 / 4900) loss: 1.330093\n",
      "(Iteration 1541 / 4900) loss: 1.345132\n",
      "(Iteration 1551 / 4900) loss: 1.376720\n",
      "(Iteration 1561 / 4900) loss: 1.445293\n",
      "(Iteration 1571 / 4900) loss: 1.568350\n",
      "(Iteration 1581 / 4900) loss: 1.232935\n",
      "(Iteration 1591 / 4900) loss: 1.256171\n",
      "(Iteration 1601 / 4900) loss: 1.421696\n",
      "(Iteration 1611 / 4900) loss: 1.409165\n",
      "(Iteration 1621 / 4900) loss: 1.233755\n",
      "(Iteration 1631 / 4900) loss: 1.452125\n",
      "(Iteration 1641 / 4900) loss: 1.498496\n",
      "(Iteration 1651 / 4900) loss: 1.357968\n",
      "(Iteration 1661 / 4900) loss: 1.492769\n",
      "(Iteration 1671 / 4900) loss: 1.250643\n",
      "(Iteration 1681 / 4900) loss: 1.553737\n",
      "(Iteration 1691 / 4900) loss: 1.429047\n",
      "(Iteration 1701 / 4900) loss: 1.354931\n",
      "(Iteration 1711 / 4900) loss: 1.464376\n",
      "(Iteration 1721 / 4900) loss: 1.188463\n",
      "(Iteration 1731 / 4900) loss: 1.261506\n",
      "(Iteration 1741 / 4900) loss: 1.551894\n",
      "(Iteration 1751 / 4900) loss: 1.262935\n",
      "(Iteration 1761 / 4900) loss: 1.477844\n",
      "(Iteration 1771 / 4900) loss: 1.356968\n",
      "(Iteration 1781 / 4900) loss: 1.445375\n",
      "(Iteration 1791 / 4900) loss: 1.403790\n",
      "(Iteration 1801 / 4900) loss: 1.421500\n",
      "(Iteration 1811 / 4900) loss: 1.381540\n",
      "(Iteration 1821 / 4900) loss: 1.344785\n",
      "(Iteration 1831 / 4900) loss: 1.428280\n",
      "(Iteration 1841 / 4900) loss: 1.448899\n",
      "(Iteration 1851 / 4900) loss: 1.267141\n",
      "(Iteration 1861 / 4900) loss: 1.287864\n",
      "(Iteration 1871 / 4900) loss: 1.215698\n",
      "(Iteration 1881 / 4900) loss: 1.412827\n",
      "(Iteration 1891 / 4900) loss: 1.382318\n",
      "(Iteration 1901 / 4900) loss: 1.237543\n",
      "(Iteration 1911 / 4900) loss: 1.457696\n",
      "(Iteration 1921 / 4900) loss: 1.355906\n",
      "(Iteration 1931 / 4900) loss: 1.360585\n",
      "(Iteration 1941 / 4900) loss: 1.194526\n",
      "(Iteration 1951 / 4900) loss: 1.250554\n",
      "(Epoch 4 / 10) train acc: 0.530000; val_acc: 0.520000\n",
      "(Iteration 1961 / 4900) loss: 1.372053\n",
      "(Iteration 1971 / 4900) loss: 1.366869\n",
      "(Iteration 1981 / 4900) loss: 1.303342\n",
      "(Iteration 1991 / 4900) loss: 1.342808\n",
      "(Iteration 2001 / 4900) loss: 1.337784\n",
      "(Iteration 2011 / 4900) loss: 1.137931\n",
      "(Iteration 2021 / 4900) loss: 1.431266\n",
      "(Iteration 2031 / 4900) loss: 1.486109\n",
      "(Iteration 2041 / 4900) loss: 1.311863\n",
      "(Iteration 2051 / 4900) loss: 1.475197\n",
      "(Iteration 2061 / 4900) loss: 1.427036\n",
      "(Iteration 2071 / 4900) loss: 1.335455\n",
      "(Iteration 2081 / 4900) loss: 1.494722\n",
      "(Iteration 2091 / 4900) loss: 1.383254\n",
      "(Iteration 2101 / 4900) loss: 1.175170\n",
      "(Iteration 2111 / 4900) loss: 1.256491\n",
      "(Iteration 2121 / 4900) loss: 1.293030\n",
      "(Iteration 2131 / 4900) loss: 1.296956\n",
      "(Iteration 2141 / 4900) loss: 1.220212\n",
      "(Iteration 2151 / 4900) loss: 1.208048\n",
      "(Iteration 2161 / 4900) loss: 1.365803\n",
      "(Iteration 2171 / 4900) loss: 1.301683\n",
      "(Iteration 2181 / 4900) loss: 1.536911\n",
      "(Iteration 2191 / 4900) loss: 1.464124\n",
      "(Iteration 2201 / 4900) loss: 1.319751\n",
      "(Iteration 2211 / 4900) loss: 1.334340\n",
      "(Iteration 2221 / 4900) loss: 1.342042\n",
      "(Iteration 2231 / 4900) loss: 1.344163\n",
      "(Iteration 2241 / 4900) loss: 1.359876\n",
      "(Iteration 2251 / 4900) loss: 1.423483\n",
      "(Iteration 2261 / 4900) loss: 1.513497\n",
      "(Iteration 2271 / 4900) loss: 1.363979\n",
      "(Iteration 2281 / 4900) loss: 1.249719\n",
      "(Iteration 2291 / 4900) loss: 1.396869\n",
      "(Iteration 2301 / 4900) loss: 1.459938\n",
      "(Iteration 2311 / 4900) loss: 1.229490\n",
      "(Iteration 2321 / 4900) loss: 1.343010\n",
      "(Iteration 2331 / 4900) loss: 1.340043\n",
      "(Iteration 2341 / 4900) loss: 1.628571\n",
      "(Iteration 2351 / 4900) loss: 1.259412\n",
      "(Iteration 2361 / 4900) loss: 1.375230\n",
      "(Iteration 2371 / 4900) loss: 1.484339\n",
      "(Iteration 2381 / 4900) loss: 1.402545\n",
      "(Iteration 2391 / 4900) loss: 1.333823\n",
      "(Iteration 2401 / 4900) loss: 1.116559\n",
      "(Iteration 2411 / 4900) loss: 1.141696\n",
      "(Iteration 2421 / 4900) loss: 1.057504\n",
      "(Iteration 2431 / 4900) loss: 1.225554\n",
      "(Iteration 2441 / 4900) loss: 1.535312\n",
      "(Epoch 5 / 10) train acc: 0.542000; val_acc: 0.506000\n",
      "(Iteration 2451 / 4900) loss: 1.472120\n",
      "(Iteration 2461 / 4900) loss: 1.178907\n",
      "(Iteration 2471 / 4900) loss: 1.378059\n",
      "(Iteration 2481 / 4900) loss: 1.446940\n",
      "(Iteration 2491 / 4900) loss: 1.382980\n",
      "(Iteration 2501 / 4900) loss: 1.189686\n",
      "(Iteration 2511 / 4900) loss: 1.150566\n",
      "(Iteration 2521 / 4900) loss: 1.265419\n",
      "(Iteration 2531 / 4900) loss: 1.252443\n",
      "(Iteration 2541 / 4900) loss: 1.283840\n",
      "(Iteration 2551 / 4900) loss: 1.289686\n",
      "(Iteration 2561 / 4900) loss: 1.265673\n",
      "(Iteration 2571 / 4900) loss: 1.323516\n",
      "(Iteration 2581 / 4900) loss: 1.347364\n",
      "(Iteration 2591 / 4900) loss: 1.527505\n",
      "(Iteration 2601 / 4900) loss: 1.221692\n",
      "(Iteration 2611 / 4900) loss: 1.377944\n",
      "(Iteration 2621 / 4900) loss: 1.379873\n",
      "(Iteration 2631 / 4900) loss: 1.378595\n",
      "(Iteration 2641 / 4900) loss: 1.347868\n",
      "(Iteration 2651 / 4900) loss: 1.145967\n",
      "(Iteration 2661 / 4900) loss: 1.152015\n",
      "(Iteration 2671 / 4900) loss: 1.460759\n",
      "(Iteration 2681 / 4900) loss: 1.250724\n",
      "(Iteration 2691 / 4900) loss: 1.290036\n",
      "(Iteration 2701 / 4900) loss: 1.183769\n",
      "(Iteration 2711 / 4900) loss: 1.195235\n",
      "(Iteration 2721 / 4900) loss: 1.384375\n",
      "(Iteration 2731 / 4900) loss: 1.254285\n",
      "(Iteration 2741 / 4900) loss: 1.342720\n",
      "(Iteration 2751 / 4900) loss: 1.393695\n",
      "(Iteration 2761 / 4900) loss: 1.366760\n",
      "(Iteration 2771 / 4900) loss: 1.290689\n",
      "(Iteration 2781 / 4900) loss: 1.121589\n",
      "(Iteration 2791 / 4900) loss: 1.195403\n",
      "(Iteration 2801 / 4900) loss: 1.331042\n",
      "(Iteration 2811 / 4900) loss: 1.410068\n",
      "(Iteration 2821 / 4900) loss: 1.210075\n",
      "(Iteration 2831 / 4900) loss: 1.250653\n",
      "(Iteration 2841 / 4900) loss: 1.358312\n",
      "(Iteration 2851 / 4900) loss: 1.223641\n",
      "(Iteration 2861 / 4900) loss: 1.288263\n",
      "(Iteration 2871 / 4900) loss: 1.095194\n",
      "(Iteration 2881 / 4900) loss: 1.228886\n",
      "(Iteration 2891 / 4900) loss: 1.284579\n",
      "(Iteration 2901 / 4900) loss: 1.208825\n",
      "(Iteration 2911 / 4900) loss: 1.314199\n",
      "(Iteration 2921 / 4900) loss: 1.386640\n",
      "(Iteration 2931 / 4900) loss: 1.404981\n",
      "(Epoch 6 / 10) train acc: 0.579000; val_acc: 0.479000\n",
      "(Iteration 2941 / 4900) loss: 1.199845\n",
      "(Iteration 2951 / 4900) loss: 1.099586\n",
      "(Iteration 2961 / 4900) loss: 1.115678\n",
      "(Iteration 2971 / 4900) loss: 1.329761\n",
      "(Iteration 2981 / 4900) loss: 1.124669\n",
      "(Iteration 2991 / 4900) loss: 1.201277\n",
      "(Iteration 3001 / 4900) loss: 1.179885\n",
      "(Iteration 3011 / 4900) loss: 1.467942\n",
      "(Iteration 3021 / 4900) loss: 1.137452\n",
      "(Iteration 3031 / 4900) loss: 1.221528\n",
      "(Iteration 3041 / 4900) loss: 1.153560\n",
      "(Iteration 3051 / 4900) loss: 1.200983\n",
      "(Iteration 3061 / 4900) loss: 1.192880\n",
      "(Iteration 3071 / 4900) loss: 1.121461\n",
      "(Iteration 3081 / 4900) loss: 1.456290\n",
      "(Iteration 3091 / 4900) loss: 1.251319\n",
      "(Iteration 3101 / 4900) loss: 1.509756\n",
      "(Iteration 3111 / 4900) loss: 1.322768\n",
      "(Iteration 3121 / 4900) loss: 1.313923\n",
      "(Iteration 3131 / 4900) loss: 1.277868\n",
      "(Iteration 3141 / 4900) loss: 1.306302\n",
      "(Iteration 3151 / 4900) loss: 1.346193\n",
      "(Iteration 3161 / 4900) loss: 1.175939\n",
      "(Iteration 3171 / 4900) loss: 1.181473\n",
      "(Iteration 3181 / 4900) loss: 1.070380\n",
      "(Iteration 3191 / 4900) loss: 1.301694\n",
      "(Iteration 3201 / 4900) loss: 1.319819\n",
      "(Iteration 3211 / 4900) loss: 1.195996\n",
      "(Iteration 3221 / 4900) loss: 1.183473\n",
      "(Iteration 3231 / 4900) loss: 1.466661\n",
      "(Iteration 3241 / 4900) loss: 1.229338\n",
      "(Iteration 3251 / 4900) loss: 1.129550\n",
      "(Iteration 3261 / 4900) loss: 1.292258\n",
      "(Iteration 3271 / 4900) loss: 1.280907\n",
      "(Iteration 3281 / 4900) loss: 1.228390\n",
      "(Iteration 3291 / 4900) loss: 1.195419\n",
      "(Iteration 3301 / 4900) loss: 1.206864\n",
      "(Iteration 3311 / 4900) loss: 1.359725\n",
      "(Iteration 3321 / 4900) loss: 1.181483\n",
      "(Iteration 3331 / 4900) loss: 1.154063\n",
      "(Iteration 3341 / 4900) loss: 1.235599\n",
      "(Iteration 3351 / 4900) loss: 1.382766\n",
      "(Iteration 3361 / 4900) loss: 1.251200\n",
      "(Iteration 3371 / 4900) loss: 1.317186\n",
      "(Iteration 3381 / 4900) loss: 1.072573\n",
      "(Iteration 3391 / 4900) loss: 1.398386\n",
      "(Iteration 3401 / 4900) loss: 1.173865\n",
      "(Iteration 3411 / 4900) loss: 1.151491\n",
      "(Iteration 3421 / 4900) loss: 1.131314\n",
      "(Epoch 7 / 10) train acc: 0.598000; val_acc: 0.510000\n",
      "(Iteration 3431 / 4900) loss: 1.172543\n",
      "(Iteration 3441 / 4900) loss: 1.244426\n",
      "(Iteration 3451 / 4900) loss: 1.484328\n",
      "(Iteration 3461 / 4900) loss: 1.503186\n",
      "(Iteration 3471 / 4900) loss: 1.141874\n",
      "(Iteration 3481 / 4900) loss: 1.156155\n",
      "(Iteration 3491 / 4900) loss: 1.183011\n",
      "(Iteration 3501 / 4900) loss: 1.304788\n",
      "(Iteration 3511 / 4900) loss: 1.176361\n",
      "(Iteration 3521 / 4900) loss: 1.057840\n",
      "(Iteration 3531 / 4900) loss: 1.413660\n",
      "(Iteration 3541 / 4900) loss: 1.374070\n",
      "(Iteration 3551 / 4900) loss: 1.072713\n",
      "(Iteration 3561 / 4900) loss: 1.188970\n",
      "(Iteration 3571 / 4900) loss: 1.435504\n",
      "(Iteration 3581 / 4900) loss: 1.216245\n",
      "(Iteration 3591 / 4900) loss: 1.222984\n",
      "(Iteration 3601 / 4900) loss: 1.297775\n",
      "(Iteration 3611 / 4900) loss: 1.410813\n",
      "(Iteration 3621 / 4900) loss: 1.197187\n",
      "(Iteration 3631 / 4900) loss: 1.387422\n",
      "(Iteration 3641 / 4900) loss: 1.091641\n",
      "(Iteration 3651 / 4900) loss: 1.019016\n",
      "(Iteration 3661 / 4900) loss: 1.128089\n",
      "(Iteration 3671 / 4900) loss: 1.152998\n",
      "(Iteration 3681 / 4900) loss: 1.268463\n",
      "(Iteration 3691 / 4900) loss: 1.168937\n",
      "(Iteration 3701 / 4900) loss: 1.179139\n",
      "(Iteration 3711 / 4900) loss: 1.134785\n",
      "(Iteration 3721 / 4900) loss: 1.409011\n",
      "(Iteration 3731 / 4900) loss: 1.053446\n",
      "(Iteration 3741 / 4900) loss: 1.377126\n",
      "(Iteration 3751 / 4900) loss: 1.277848\n",
      "(Iteration 3761 / 4900) loss: 1.082502\n",
      "(Iteration 3771 / 4900) loss: 1.254980\n",
      "(Iteration 3781 / 4900) loss: 1.353789\n",
      "(Iteration 3791 / 4900) loss: 1.440837\n",
      "(Iteration 3801 / 4900) loss: 1.210964\n",
      "(Iteration 3811 / 4900) loss: 1.093836\n",
      "(Iteration 3821 / 4900) loss: 1.106502\n",
      "(Iteration 3831 / 4900) loss: 1.316851\n",
      "(Iteration 3841 / 4900) loss: 1.274651\n",
      "(Iteration 3851 / 4900) loss: 1.215990\n",
      "(Iteration 3861 / 4900) loss: 1.134454\n",
      "(Iteration 3871 / 4900) loss: 1.316090\n",
      "(Iteration 3881 / 4900) loss: 1.306352\n",
      "(Iteration 3891 / 4900) loss: 1.096875\n",
      "(Iteration 3901 / 4900) loss: 1.166946\n",
      "(Iteration 3911 / 4900) loss: 1.078631\n",
      "(Epoch 8 / 10) train acc: 0.591000; val_acc: 0.504000\n",
      "(Iteration 3921 / 4900) loss: 1.270215\n",
      "(Iteration 3931 / 4900) loss: 1.184282\n",
      "(Iteration 3941 / 4900) loss: 1.263542\n",
      "(Iteration 3951 / 4900) loss: 1.168417\n",
      "(Iteration 3961 / 4900) loss: 1.031063\n",
      "(Iteration 3971 / 4900) loss: 1.051979\n",
      "(Iteration 3981 / 4900) loss: 1.347768\n",
      "(Iteration 3991 / 4900) loss: 1.318512\n",
      "(Iteration 4001 / 4900) loss: 1.131711\n",
      "(Iteration 4011 / 4900) loss: 1.114017\n",
      "(Iteration 4021 / 4900) loss: 1.244632\n",
      "(Iteration 4031 / 4900) loss: 1.333371\n",
      "(Iteration 4041 / 4900) loss: 1.521947\n",
      "(Iteration 4051 / 4900) loss: 1.372588\n",
      "(Iteration 4061 / 4900) loss: 1.325272\n",
      "(Iteration 4071 / 4900) loss: 1.082444\n",
      "(Iteration 4081 / 4900) loss: 1.097208\n",
      "(Iteration 4091 / 4900) loss: 1.092506\n",
      "(Iteration 4101 / 4900) loss: 1.184995\n",
      "(Iteration 4111 / 4900) loss: 1.202651\n",
      "(Iteration 4121 / 4900) loss: 1.125559\n",
      "(Iteration 4131 / 4900) loss: 1.273338\n",
      "(Iteration 4141 / 4900) loss: 1.127687\n",
      "(Iteration 4151 / 4900) loss: 1.526968\n",
      "(Iteration 4161 / 4900) loss: 1.266828\n",
      "(Iteration 4171 / 4900) loss: 1.213394\n",
      "(Iteration 4181 / 4900) loss: 0.968563\n",
      "(Iteration 4191 / 4900) loss: 1.270965\n",
      "(Iteration 4201 / 4900) loss: 1.277714\n",
      "(Iteration 4211 / 4900) loss: 1.100093\n",
      "(Iteration 4221 / 4900) loss: 1.155055\n",
      "(Iteration 4231 / 4900) loss: 1.110093\n",
      "(Iteration 4241 / 4900) loss: 1.110912\n",
      "(Iteration 4251 / 4900) loss: 1.080807\n",
      "(Iteration 4261 / 4900) loss: 1.266787\n",
      "(Iteration 4271 / 4900) loss: 1.118493\n",
      "(Iteration 4281 / 4900) loss: 1.163017\n",
      "(Iteration 4291 / 4900) loss: 1.233661\n",
      "(Iteration 4301 / 4900) loss: 1.075929\n",
      "(Iteration 4311 / 4900) loss: 1.036229\n",
      "(Iteration 4321 / 4900) loss: 1.145562\n",
      "(Iteration 4331 / 4900) loss: 1.221746\n",
      "(Iteration 4341 / 4900) loss: 1.250610\n",
      "(Iteration 4351 / 4900) loss: 1.221325\n",
      "(Iteration 4361 / 4900) loss: 1.047954\n",
      "(Iteration 4371 / 4900) loss: 1.070959\n",
      "(Iteration 4381 / 4900) loss: 1.306800\n",
      "(Iteration 4391 / 4900) loss: 1.248051\n",
      "(Iteration 4401 / 4900) loss: 1.287730\n",
      "(Epoch 9 / 10) train acc: 0.623000; val_acc: 0.509000\n",
      "(Iteration 4411 / 4900) loss: 1.242704\n",
      "(Iteration 4421 / 4900) loss: 1.096144\n",
      "(Iteration 4431 / 4900) loss: 0.994203\n",
      "(Iteration 4441 / 4900) loss: 0.946880\n",
      "(Iteration 4451 / 4900) loss: 1.370825\n",
      "(Iteration 4461 / 4900) loss: 1.124789\n",
      "(Iteration 4471 / 4900) loss: 1.149359\n",
      "(Iteration 4481 / 4900) loss: 1.133634\n",
      "(Iteration 4491 / 4900) loss: 1.246473\n",
      "(Iteration 4501 / 4900) loss: 0.966395\n",
      "(Iteration 4511 / 4900) loss: 1.150852\n",
      "(Iteration 4521 / 4900) loss: 1.248696\n",
      "(Iteration 4531 / 4900) loss: 1.257092\n",
      "(Iteration 4541 / 4900) loss: 1.376433\n",
      "(Iteration 4551 / 4900) loss: 1.324275\n",
      "(Iteration 4561 / 4900) loss: 1.085847\n",
      "(Iteration 4571 / 4900) loss: 1.137133\n",
      "(Iteration 4581 / 4900) loss: 1.254926\n",
      "(Iteration 4591 / 4900) loss: 1.087357\n",
      "(Iteration 4601 / 4900) loss: 1.238155\n",
      "(Iteration 4611 / 4900) loss: 1.198224\n",
      "(Iteration 4621 / 4900) loss: 1.161418\n",
      "(Iteration 4631 / 4900) loss: 1.155140\n",
      "(Iteration 4641 / 4900) loss: 1.180743\n",
      "(Iteration 4651 / 4900) loss: 1.266879\n",
      "(Iteration 4661 / 4900) loss: 1.180894\n",
      "(Iteration 4671 / 4900) loss: 1.270123\n",
      "(Iteration 4681 / 4900) loss: 1.135001\n",
      "(Iteration 4691 / 4900) loss: 1.107408\n",
      "(Iteration 4701 / 4900) loss: 1.004282\n",
      "(Iteration 4711 / 4900) loss: 1.359428\n",
      "(Iteration 4721 / 4900) loss: 1.108152\n",
      "(Iteration 4731 / 4900) loss: 1.230951\n",
      "(Iteration 4741 / 4900) loss: 1.006582\n",
      "(Iteration 4751 / 4900) loss: 1.263913\n",
      "(Iteration 4761 / 4900) loss: 1.154566\n",
      "(Iteration 4771 / 4900) loss: 1.240595\n",
      "(Iteration 4781 / 4900) loss: 1.160639\n",
      "(Iteration 4791 / 4900) loss: 1.300697\n",
      "(Iteration 4801 / 4900) loss: 1.016632\n",
      "(Iteration 4811 / 4900) loss: 1.146239\n",
      "(Iteration 4821 / 4900) loss: 1.267144\n",
      "(Iteration 4831 / 4900) loss: 1.058622\n",
      "(Iteration 4841 / 4900) loss: 1.353225\n",
      "(Iteration 4851 / 4900) loss: 0.975119\n",
      "(Iteration 4861 / 4900) loss: 1.176056\n",
      "(Iteration 4871 / 4900) loss: 1.150200\n",
      "(Iteration 4881 / 4900) loss: 1.265139\n",
      "(Iteration 4891 / 4900) loss: 1.311845\n",
      "(Epoch 10 / 10) train acc: 0.596000; val_acc: 0.495000\n",
      "\t 0.52\n"
     ]
    }
   ],
   "source": [
    "hidden_dim = 250; reg=0.1 # using the hyperparameter settings of the \n",
    "                          # two_layer_net trained in assignment 1's\n",
    "                          # two_layer_net.ipynb\n",
    "model = TwoLayerNet(hidden_dim=hidden_dim, reg=reg)\n",
    "solver = None\n",
    "\n",
    "##############################################################################\n",
    "# TODO: Use a Solver instance to train a TwoLayerNet that achieves at least  #\n",
    "# 50% accuracy on the validation set.                                        #\n",
    "##############################################################################\n",
    "learning_rate = 1e-3;\n",
    "lr_decay = 0.95;\n",
    "num_epochs = 10\n",
    "optim_config = {'learning_rate':learning_rate}\n",
    "solver = Solver(model, data, optim_config=optim_config\n",
    "                            , verbose=False, lr_decay=lr_decay, num_epochs=num_epochs)\n",
    "solver.train()\n",
    "    \n",
    "print('\\t', solver.check_accuracy(X=data['X_val'], y=data['y_val']))\n",
    "##############################################################################\n",
    "#                             END OF YOUR CODE                               #\n",
    "##############################################################################"
   ]
  },
  {
   "cell_type": "code",
   "execution_count": 8,
   "metadata": {
    "collapsed": false,
    "deletable": true,
    "editable": true
   },
   "outputs": [
    {
     "data": {
      "image/png": "[encoded data removed]",
      "text/plain": [
       "<matplotlib.figure.Figure at 0x18f85557588>"
      ]
     },
     "metadata": {},
     "output_type": "display_data"
    }
   ],
   "source": [
    "# Run this cell to visualize training loss and train / val accuracy\n",
    "\n",
    "plt.subplot(2, 1, 1)\n",
    "plt.title('Training loss')\n",
    "plt.plot(solver.loss_history, 'o')\n",
    "plt.xlabel('Iteration')\n",
    "\n",
    "plt.subplot(2, 1, 2)\n",
    "plt.title('Accuracy')\n",
    "plt.plot(solver.train_acc_history, '-o', label='train')\n",
    "plt.plot(solver.val_acc_history, '-o', label='val')\n",
    "plt.plot([0.5] * len(solver.val_acc_history), 'k--')\n",
    "plt.xlabel('Epoch')\n",
    "plt.legend(loc='lower right')\n",
    "plt.gcf().set_size_inches(15, 12)\n",
    "plt.show()"
   ]
  },
  {
   "cell_type": "markdown",
   "metadata": {
    "deletable": true,
    "editable": true
   },
   "source": [
    "# Multilayer network\n",
    "Next you will implement a fully-connected network with an arbitrary number of hidden layers.\n",
    "\n",
    "Read through the `FullyConnectedNet` class in the file `cs231n/classifiers/fc_net.py`.\n",
    "\n",
    "Implement the initialization, the forward pass, and the backward pass. For the moment don't worry about implementing dropout or batch normalization; we will add those features soon."
   ]
  },
  {
   "cell_type": "markdown",
   "metadata": {
    "deletable": true,
    "editable": true
   },
   "source": [
    "## Initial loss and gradient check"
   ]
  },
  {
   "cell_type": "markdown",
   "metadata": {
    "deletable": true,
    "editable": true
   },
   "source": [
    "As a sanity check, run the following to check the initial loss and to gradient check the network both with and without regularization. Do the initial losses seem reasonable?\n",
    "\n",
    "For gradient checking, you should expect to see errors around 1e-6 or less."
   ]
  },
  {
   "cell_type": "code",
   "execution_count": 47,
   "metadata": {
    "collapsed": false,
    "deletable": true,
    "editable": true
   },
   "outputs": [
    {
     "name": "stdout",
     "output_type": "stream",
     "text": [
      "Running check with reg =  0\n",
      "Initial loss:  2.30047908977\n",
      "Running check with reg =  3.14\n",
      "Initial loss:  11.8025813373\n"
     ]
    }
   ],
   "source": [
    "np.random.seed(231)\n",
    "N, D, H1, H2, C = 2, 15, 20, 30, 10\n",
    "X = np.random.randn(N, D)\n",
    "y = np.random.randint(C, size=(N,))\n",
    "\n",
    "for reg in [0, 3.14]:\n",
    "  print('Running check with reg = ', reg)\n",
    "  model = FullyConnectedNet([H1, H2], input_dim=D, num_classes=C,\n",
    "                            reg=reg, weight_scale=5e-2, dtype=np.float64)\n",
    "\n",
    "  loss, grads = model.loss(X, y)\n",
    "#   loss = model.loss(X)\n",
    "  print('Initial loss: ', loss)\n",
    "\n",
    "  for name in sorted(grads):\n",
    "    f = lambda _: model.loss(X, y)[0]\n",
    "    grad_num = eval_numerical_gradient(f, model.params[name], verbose=False, h=1e-5)\n",
    "    print('%s relative error: %.2e' % (name, rel_error(grad_num, grads[name])))"
   ]
  },
  {
   "cell_type": "markdown",
   "metadata": {
    "deletable": true,
    "editable": true
   },
   "source": [
    "As another sanity check, make sure you can overfit a small dataset of 50 images. First we will try a three-layer network with 100 units in each hidden layer. You will need to tweak the learning rate and initialization scale, but you should be able to overfit and achieve 100% training accuracy within 20 epochs."
   ]
  },
  {
   "cell_type": "code",
   "execution_count": null,
   "metadata": {
    "collapsed": false,
    "deletable": true,
    "editable": true,
    "scrolled": false
   },
   "outputs": [],
   "source": [
    "# TODO: Use a three-layer Net to overfit 50 training examples.\n",
    "\n",
    "num_train = 50\n",
    "small_data = {\n",
    "  'X_train': data['X_train'][:num_train],\n",
    "  'y_train': data['y_train'][:num_train],\n",
    "  'X_val': data['X_val'],\n",
    "  'y_val': data['y_val'],\n",
    "}\n",
    "\n",
    "weight_scale = 1e-2\n",
    "learning_rate = 1e-4\n",
    "model = FullyConnectedNet([100, 100],\n",
    "              weight_scale=weight_scale, dtype=np.float64)\n",
    "solver = Solver(model, small_data,\n",
    "                print_every=10, num_epochs=20, batch_size=25,\n",
    "                update_rule='sgd',\n",
    "                optim_config={\n",
    "                  'learning_rate': learning_rate,\n",
    "                }\n",
    "         )\n",
    "solver.train()\n",
    "\n",
    "plt.plot(solver.loss_history, 'o')\n",
    "plt.title('Training loss history')\n",
    "plt.xlabel('Iteration')\n",
    "plt.ylabel('Training loss')\n",
    "plt.show()"
   ]
  },
  {
   "cell_type": "markdown",
   "metadata": {
    "deletable": true,
    "editable": true
   },
   "source": [
    "Now try to use a five-layer network with 100 units on each layer to overfit 50 training examples. Again you will have to adjust the learning rate and weight initialization, but you should be able to achieve 100% training accuracy within 20 epochs."
   ]
  },
  {
   "cell_type": "code",
   "execution_count": null,
   "metadata": {
    "collapsed": false,
    "deletable": true,
    "editable": true
   },
   "outputs": [],
   "source": [
    "# TODO: Use a five-layer Net to overfit 50 training examples.\n",
    "\n",
    "num_train = 50\n",
    "small_data = {\n",
    "  'X_train': data['X_train'][:num_train],\n",
    "  'y_train': data['y_train'][:num_train],\n",
    "  'X_val': data['X_val'],\n",
    "  'y_val': data['y_val'],\n",
    "}\n",
    "\n",
    "learning_rate = 1e-3\n",
    "weight_scale = 1e-5\n",
    "model = FullyConnectedNet([100, 100, 100, 100],\n",
    "                weight_scale=weight_scale, dtype=np.float64)\n",
    "solver = Solver(model, small_data,\n",
    "                print_every=10, num_epochs=20, batch_size=25,\n",
    "                update_rule='sgd',\n",
    "                optim_config={\n",
    "                  'learning_rate': learning_rate,\n",
    "                }\n",
    "         )\n",
    "solver.train()\n",
    "\n",
    "plt.plot(solver.loss_history, 'o')\n",
    "plt.title('Training loss history')\n",
    "plt.xlabel('Iteration')\n",
    "plt.ylabel('Training loss')\n",
    "plt.show()"
   ]
  },
  {
   "cell_type": "markdown",
   "metadata": {
    "deletable": true,
    "editable": true
   },
   "source": [
    "# Inline question: \n",
    "Did you notice anything about the comparative difficulty of training the three-layer net vs training the five layer net?\n",
    "\n",
    "# Answer:\n",
    "[FILL THIS IN]\n"
   ]
  },
  {
   "cell_type": "markdown",
   "metadata": {
    "deletable": true,
    "editable": true
   },
   "source": [
    "# Update rules\n",
    "So far we have used vanilla stochastic gradient descent (SGD) as our update rule. More sophisticated update rules can make it easier to train deep networks. We will implement a few of the most commonly used update rules and compare them to vanilla SGD."
   ]
  },
  {
   "cell_type": "markdown",
   "metadata": {
    "deletable": true,
    "editable": true
   },
   "source": [
    "# SGD+Momentum\n",
    "Stochastic gradient descent with momentum is a widely used update rule that tends to make deep networks converge faster than vanilla stochstic gradient descent.\n",
    "\n",
    "Open the file `cs231n/optim.py` and read the documentation at the top of the file to make sure you understand the API. Implement the SGD+momentum update rule in the function `sgd_momentum` and run the following to check your implementation. You should see errors less than 1e-8."
   ]
  },
  {
   "cell_type": "code",
   "execution_count": null,
   "metadata": {
    "collapsed": false,
    "deletable": true,
    "editable": true
   },
   "outputs": [],
   "source": [
    "from cs231n.optim import sgd_momentum\n",
    "\n",
    "N, D = 4, 5\n",
    "w = np.linspace(-0.4, 0.6, num=N*D).reshape(N, D)\n",
    "dw = np.linspace(-0.6, 0.4, num=N*D).reshape(N, D)\n",
    "v = np.linspace(0.6, 0.9, num=N*D).reshape(N, D)\n",
    "\n",
    "config = {'learning_rate': 1e-3, 'velocity': v}\n",
    "next_w, _ = sgd_momentum(w, dw, config=config)\n",
    "\n",
    "expected_next_w = np.asarray([\n",
    "  [ 0.1406,      0.20738947,  0.27417895,  0.34096842,  0.40775789],\n",
    "  [ 0.47454737,  0.54133684,  0.60812632,  0.67491579,  0.74170526],\n",
    "  [ 0.80849474,  0.87528421,  0.94207368,  1.00886316,  1.07565263],\n",
    "  [ 1.14244211,  1.20923158,  1.27602105,  1.34281053,  1.4096    ]])\n",
    "expected_velocity = np.asarray([\n",
    "  [ 0.5406,      0.55475789,  0.56891579, 0.58307368,  0.59723158],\n",
    "  [ 0.61138947,  0.62554737,  0.63970526,  0.65386316,  0.66802105],\n",
    "  [ 0.68217895,  0.69633684,  0.71049474,  0.72465263,  0.73881053],\n",
    "  [ 0.75296842,  0.76712632,  0.78128421,  0.79544211,  0.8096    ]])\n",
    "\n",
    "print('next_w error: ', rel_error(next_w, expected_next_w))\n",
    "print('velocity error: ', rel_error(expected_velocity, config['velocity']))"
   ]
  },
  {
   "cell_type": "markdown",
   "metadata": {
    "deletable": true,
    "editable": true
   },
   "source": [
    "Once you have done so, run the following to train a six-layer network with both SGD and SGD+momentum. You should see the SGD+momentum update rule converge faster."
   ]
  },
  {
   "cell_type": "code",
   "execution_count": null,
   "metadata": {
    "collapsed": false,
    "deletable": true,
    "editable": true,
    "scrolled": false
   },
   "outputs": [],
   "source": [
    "num_train = 4000\n",
    "small_data = {\n",
    "  'X_train': data['X_train'][:num_train],\n",
    "  'y_train': data['y_train'][:num_train],\n",
    "  'X_val': data['X_val'],\n",
    "  'y_val': data['y_val'],\n",
    "}\n",
    "\n",
    "solvers = {}\n",
    "\n",
    "for update_rule in ['sgd', 'sgd_momentum']:\n",
    "  print('running with ', update_rule)\n",
    "  model = FullyConnectedNet([100, 100, 100, 100, 100], weight_scale=5e-2)\n",
    "\n",
    "  solver = Solver(model, small_data,\n",
    "                  num_epochs=5, batch_size=100,\n",
    "                  update_rule=update_rule,\n",
    "                  optim_config={\n",
    "                    'learning_rate': 1e-2,\n",
    "                  },\n",
    "                  verbose=True)\n",
    "  solvers[update_rule] = solver\n",
    "  solver.train()\n",
    "  print()\n",
    "\n",
    "plt.subplot(3, 1, 1)\n",
    "plt.title('Training loss')\n",
    "plt.xlabel('Iteration')\n",
    "\n",
    "plt.subplot(3, 1, 2)\n",
    "plt.title('Training accuracy')\n",
    "plt.xlabel('Epoch')\n",
    "\n",
    "plt.subplot(3, 1, 3)\n",
    "plt.title('Validation accuracy')\n",
    "plt.xlabel('Epoch')\n",
    "\n",
    "for update_rule, solver in list(solvers.items()):\n",
    "  plt.subplot(3, 1, 1)\n",
    "  plt.plot(solver.loss_history, 'o', label=update_rule)\n",
    "  \n",
    "  plt.subplot(3, 1, 2)\n",
    "  plt.plot(solver.train_acc_history, '-o', label=update_rule)\n",
    "\n",
    "  plt.subplot(3, 1, 3)\n",
    "  plt.plot(solver.val_acc_history, '-o', label=update_rule)\n",
    "  \n",
    "for i in [1, 2, 3]:\n",
    "  plt.subplot(3, 1, i)\n",
    "  plt.legend(loc='upper center', ncol=4)\n",
    "plt.gcf().set_size_inches(15, 15)\n",
    "plt.show()"
   ]
  },
  {
   "cell_type": "markdown",
   "metadata": {
    "deletable": true,
    "editable": true
   },
   "source": [
    "# RMSProp and Adam\n",
    "RMSProp [1] and Adam [2] are update rules that set per-parameter learning rates by using a running average of the second moments of gradients.\n",
    "\n",
    "In the file `cs231n/optim.py`, implement the RMSProp update rule in the `rmsprop` function and implement the Adam update rule in the `adam` function, and check your implementations using the tests below.\n",
    "\n",
    "[1] Tijmen Tieleman and Geoffrey Hinton. \"Lecture 6.5-rmsprop: Divide the gradient by a running average of its recent magnitude.\" COURSERA: Neural Networks for Machine Learning 4 (2012).\n",
    "\n",
    "[2] Diederik Kingma and Jimmy Ba, \"Adam: A Method for Stochastic Optimization\", ICLR 2015."
   ]
  },
  {
   "cell_type": "code",
   "execution_count": null,
   "metadata": {
    "collapsed": false,
    "deletable": true,
    "editable": true
   },
   "outputs": [],
   "source": [
    "# Test RMSProp implementation; you should see errors less than 1e-7\n",
    "from cs231n.optim import rmsprop\n",
    "\n",
    "N, D = 4, 5\n",
    "w = np.linspace(-0.4, 0.6, num=N*D).reshape(N, D)\n",
    "dw = np.linspace(-0.6, 0.4, num=N*D).reshape(N, D)\n",
    "cache = np.linspace(0.6, 0.9, num=N*D).reshape(N, D)\n",
    "\n",
    "config = {'learning_rate': 1e-2, 'cache': cache}\n",
    "next_w, _ = rmsprop(w, dw, config=config)\n",
    "\n",
    "expected_next_w = np.asarray([\n",
    "  [-0.39223849, -0.34037513, -0.28849239, -0.23659121, -0.18467247],\n",
    "  [-0.132737,   -0.08078555, -0.02881884,  0.02316247,  0.07515774],\n",
    "  [ 0.12716641,  0.17918792,  0.23122175,  0.28326742,  0.33532447],\n",
    "  [ 0.38739248,  0.43947102,  0.49155973,  0.54365823,  0.59576619]])\n",
    "expected_cache = np.asarray([\n",
    "  [ 0.5976,      0.6126277,   0.6277108,   0.64284931,  0.65804321],\n",
    "  [ 0.67329252,  0.68859723,  0.70395734,  0.71937285,  0.73484377],\n",
    "  [ 0.75037008,  0.7659518,   0.78158892,  0.79728144,  0.81302936],\n",
    "  [ 0.82883269,  0.84469141,  0.86060554,  0.87657507,  0.8926    ]])\n",
    "\n",
    "print('next_w error: ', rel_error(expected_next_w, next_w))\n",
    "print('cache error: ', rel_error(expected_cache, config['cache']))"
   ]
  },
  {
   "cell_type": "code",
   "execution_count": null,
   "metadata": {
    "collapsed": false,
    "deletable": true,
    "editable": true
   },
   "outputs": [],
   "source": [
    "# Test Adam implementation; you should see errors around 1e-7 or less\n",
    "from cs231n.optim import adam\n",
    "\n",
    "N, D = 4, 5\n",
    "w = np.linspace(-0.4, 0.6, num=N*D).reshape(N, D)\n",
    "dw = np.linspace(-0.6, 0.4, num=N*D).reshape(N, D)\n",
    "m = np.linspace(0.6, 0.9, num=N*D).reshape(N, D)\n",
    "v = np.linspace(0.7, 0.5, num=N*D).reshape(N, D)\n",
    "\n",
    "config = {'learning_rate': 1e-2, 'm': m, 'v': v, 't': 5}\n",
    "next_w, _ = adam(w, dw, config=config)\n",
    "\n",
    "expected_next_w = np.asarray([\n",
    "  [-0.40094747, -0.34836187, -0.29577703, -0.24319299, -0.19060977],\n",
    "  [-0.1380274,  -0.08544591, -0.03286534,  0.01971428,  0.0722929],\n",
    "  [ 0.1248705,   0.17744702,  0.23002243,  0.28259667,  0.33516969],\n",
    "  [ 0.38774145,  0.44031188,  0.49288093,  0.54544852,  0.59801459]])\n",
    "expected_v = np.asarray([\n",
    "  [ 0.69966,     0.68908382,  0.67851319,  0.66794809,  0.65738853,],\n",
    "  [ 0.64683452,  0.63628604,  0.6257431,   0.61520571,  0.60467385,],\n",
    "  [ 0.59414753,  0.58362676,  0.57311152,  0.56260183,  0.55209767,],\n",
    "  [ 0.54159906,  0.53110598,  0.52061845,  0.51013645,  0.49966,   ]])\n",
    "expected_m = np.asarray([\n",
    "  [ 0.48,        0.49947368,  0.51894737,  0.53842105,  0.55789474],\n",
    "  [ 0.57736842,  0.59684211,  0.61631579,  0.63578947,  0.65526316],\n",
    "  [ 0.67473684,  0.69421053,  0.71368421,  0.73315789,  0.75263158],\n",
    "  [ 0.77210526,  0.79157895,  0.81105263,  0.83052632,  0.85      ]])\n",
    "\n",
    "print('next_w error: ', rel_error(expected_next_w, next_w))\n",
    "print('v error: ', rel_error(expected_v, config['v']))\n",
    "print('m error: ', rel_error(expected_m, config['m']))"
   ]
  },
  {
   "cell_type": "markdown",
   "metadata": {
    "deletable": true,
    "editable": true
   },
   "source": [
    "Once you have debugged your RMSProp and Adam implementations, run the following to train a pair of deep networks using these new update rules:"
   ]
  },
  {
   "cell_type": "code",
   "execution_count": null,
   "metadata": {
    "collapsed": false,
    "deletable": true,
    "editable": true
   },
   "outputs": [],
   "source": [
    "learning_rates = {'rmsprop': 1e-4, 'adam': 1e-3}\n",
    "for update_rule in ['adam', 'rmsprop']:\n",
    "  print('running with ', update_rule)\n",
    "  model = FullyConnectedNet([100, 100, 100, 100, 100], weight_scale=5e-2)\n",
    "\n",
    "  solver = Solver(model, small_data,\n",
    "                  num_epochs=5, batch_size=100,\n",
    "                  update_rule=update_rule,\n",
    "                  optim_config={\n",
    "                    'learning_rate': learning_rates[update_rule]\n",
    "                  },\n",
    "                  verbose=True)\n",
    "  solvers[update_rule] = solver\n",
    "  solver.train()\n",
    "  print()\n",
    "\n",
    "plt.subplot(3, 1, 1)\n",
    "plt.title('Training loss')\n",
    "plt.xlabel('Iteration')\n",
    "\n",
    "plt.subplot(3, 1, 2)\n",
    "plt.title('Training accuracy')\n",
    "plt.xlabel('Epoch')\n",
    "\n",
    "plt.subplot(3, 1, 3)\n",
    "plt.title('Validation accuracy')\n",
    "plt.xlabel('Epoch')\n",
    "\n",
    "for update_rule, solver in list(solvers.items()):\n",
    "  plt.subplot(3, 1, 1)\n",
    "  plt.plot(solver.loss_history, 'o', label=update_rule)\n",
    "  \n",
    "  plt.subplot(3, 1, 2)\n",
    "  plt.plot(solver.train_acc_history, '-o', label=update_rule)\n",
    "\n",
    "  plt.subplot(3, 1, 3)\n",
    "  plt.plot(solver.val_acc_history, '-o', label=update_rule)\n",
    "  \n",
    "for i in [1, 2, 3]:\n",
    "  plt.subplot(3, 1, i)\n",
    "  plt.legend(loc='upper center', ncol=4)\n",
    "plt.gcf().set_size_inches(15, 15)\n",
    "plt.show()"
   ]
  },
  {
   "cell_type": "markdown",
   "metadata": {
    "deletable": true,
    "editable": true
   },
   "source": [
    "# Train a good model!\n",
    "Train the best fully-connected model that you can on CIFAR-10, storing your best model in the `best_model` variable. We require you to get at least 50% accuracy on the validation set using a fully-connected net.\n",
    "\n",
    "If you are careful it should be possible to get accuracies above 55%, but we don't require it for this part and won't assign extra credit for doing so. Later in the assignment we will ask you to train the best convolutional network that you can on CIFAR-10, and we would prefer that you spend your effort working on convolutional nets rather than fully-connected nets.\n",
    "\n",
    "You might find it useful to complete the `BatchNormalization.ipynb` and `Dropout.ipynb` notebooks before completing this part, since those techniques can help you train powerful models."
   ]
  },
  {
   "cell_type": "code",
   "execution_count": null,
   "metadata": {
    "collapsed": false,
    "deletable": true,
    "editable": true,
    "scrolled": false
   },
   "outputs": [],
   "source": [
    "best_model = None\n",
    "################################################################################\n",
    "# TODO: Train the best FullyConnectedNet that you can on CIFAR-10. You might   #\n",
    "# batch normalization and dropout useful. Store your best model in the         #\n",
    "# best_model variable.                                                         #\n",
    "################################################################################\n",
    "pass\n",
    "################################################################################\n",
    "#                              END OF YOUR CODE                                #\n",
    "################################################################################"
   ]
  },
  {
   "cell_type": "markdown",
   "metadata": {
    "deletable": true,
    "editable": true
   },
   "source": [
    "# Test you model\n",
    "Run your best model on the validation and test sets. You should achieve above 50% accuracy on the validation set."
   ]
  },
  {
   "cell_type": "code",
   "execution_count": null,
   "metadata": {
    "collapsed": false,
    "deletable": true,
    "editable": true
   },
   "outputs": [],
   "source": [
    "y_test_pred = np.argmax(best_model.loss(data['X_test']), axis=1)\n",
    "y_val_pred = np.argmax(best_model.loss(data['X_val']), axis=1)\n",
    "print('Validation set accuracy: ', (y_val_pred == data['y_val']).mean())\n",
    "print('Test set accuracy: ', (y_test_pred == data['y_test']).mean())"
   ]
  }
 ],
 "metadata": {
  "celltoolbar": "Initialization Cell",
  "kernelspec": {
   "display_name": "Python 3",
   "language": "python",
   "name": "python3"
  },
  "language_info": {
   "codemirror_mode": {
    "name": "ipython",
    "version": 3
   },
   "file_extension": ".py",
   "mimetype": "text/x-python",
   "name": "python",
   "nbconvert_exporter": "python",
   "pygments_lexer": "ipython3",
   "version": "3.6.1"
  },
  "latex_envs": {
   "LaTeX_envs_menu_present": true,
   "autocomplete": true,
   "bibliofile": "biblio.bib",
   "cite_by": "apalike",
   "current_citInitial": 1,
   "eqLabelWithNumbers": true,
   "eqNumInitial": 1,
   "hotkeys": {
    "equation": "Ctrl-E",
    "itemize": "Ctrl-I"
   },
   "labels_anchors": false,
   "latex_user_defs": false,
   "report_style_numbering": false,
   "user_envs_cfg": false
  },
  "toc": {
   "colors": {
    "hover_highlight": "#DAA520",
    "navigate_num": "#000000",
    "navigate_text": "#333333",
    "running_highlight": "#FF0000",
    "selected_highlight": "#FFD700",
    "sidebar_border": "#EEEEEE",
    "wrapper_background": "#FFFFFF"
   },
   "moveMenuLeft": true,
   "nav_menu": {
    "height": "346px",
    "width": "252px"
   },
   "navigate_menu": true,
   "number_sections": true,
   "sideBar": true,
   "skip_h1_title": false,
   "threshold": 4,
   "toc_cell": true,
   "toc_position": {},
   "toc_section_display": "block",
   "toc_window_display": false,
   "widenNotebook": false
  }
 },
 "nbformat": 4,
 "nbformat_minor": 0
}
