{
 "cells": [
  {
   "cell_type": "markdown",
   "metadata": {
    "toc": "true"
   },
   "source": [
    "# Table of Contents\n",
    " <p><div class=\"lev1 toc-item\"><a href=\"#Training-a-ConvNet-PyTorch\" data-toc-modified-id=\"Training-a-ConvNet-PyTorch-1\"><span class=\"toc-item-num\">1&nbsp;&nbsp;</span>Training a ConvNet PyTorch</a></div><div class=\"lev2 toc-item\"><a href=\"#What's-this-PyTorch-business?\" data-toc-modified-id=\"What's-this-PyTorch-business?-11\"><span class=\"toc-item-num\">1.1&nbsp;&nbsp;</span>What's this PyTorch business?</a></div><div class=\"lev2 toc-item\"><a href=\"#How-will-I-learn-PyTorch?\" data-toc-modified-id=\"How-will-I-learn-PyTorch?-12\"><span class=\"toc-item-num\">1.2&nbsp;&nbsp;</span>How will I learn PyTorch?</a></div><div class=\"lev2 toc-item\"><a href=\"#Load-Datasets\" data-toc-modified-id=\"Load-Datasets-13\"><span class=\"toc-item-num\">1.3&nbsp;&nbsp;</span>Load Datasets</a></div><div class=\"lev2 toc-item\"><a href=\"#Example-Model\" data-toc-modified-id=\"Example-Model-14\"><span class=\"toc-item-num\">1.4&nbsp;&nbsp;</span>Example Model</a></div><div class=\"lev3 toc-item\"><a href=\"#Some-assorted-tidbits\" data-toc-modified-id=\"Some-assorted-tidbits-141\"><span class=\"toc-item-num\">1.4.1&nbsp;&nbsp;</span>Some assorted tidbits</a></div><div class=\"lev3 toc-item\"><a href=\"#The-example-model-itself\" data-toc-modified-id=\"The-example-model-itself-142\"><span class=\"toc-item-num\">1.4.2&nbsp;&nbsp;</span>The example model itself</a></div><div class=\"lev2 toc-item\"><a href=\"#Training-a-specific-model\" data-toc-modified-id=\"Training-a-specific-model-15\"><span class=\"toc-item-num\">1.5&nbsp;&nbsp;</span>Training a specific model</a></div><div class=\"lev3 toc-item\"><a href=\"#GPU!\" data-toc-modified-id=\"GPU!-151\"><span class=\"toc-item-num\">1.5.1&nbsp;&nbsp;</span>GPU!</a></div><div class=\"lev3 toc-item\"><a href=\"#Train-the-model.\" data-toc-modified-id=\"Train-the-model.-152\"><span class=\"toc-item-num\">1.5.2&nbsp;&nbsp;</span>Train the model.</a></div><div class=\"lev3 toc-item\"><a href=\"#Check-the-accuracy-of-the-model.\" data-toc-modified-id=\"Check-the-accuracy-of-the-model.-153\"><span class=\"toc-item-num\">1.5.3&nbsp;&nbsp;</span>Check the accuracy of the model.</a></div><div class=\"lev3 toc-item\"><a href=\"#Don't-forget-the-validation-set!\" data-toc-modified-id=\"Don't-forget-the-validation-set!-154\"><span class=\"toc-item-num\">1.5.4&nbsp;&nbsp;</span>Don't forget the validation set!</a></div><div class=\"lev2 toc-item\"><a href=\"#Train-a-great-model-on-CIFAR-10!\" data-toc-modified-id=\"Train-a-great-model-on-CIFAR-10!-16\"><span class=\"toc-item-num\">1.6&nbsp;&nbsp;</span>Train a <em>great</em> model on CIFAR-10!</a></div><div class=\"lev3 toc-item\"><a href=\"#Things-you-should-try:\" data-toc-modified-id=\"Things-you-should-try:-161\"><span class=\"toc-item-num\">1.6.1&nbsp;&nbsp;</span>Things you should try:</a></div><div class=\"lev3 toc-item\"><a href=\"#Tips-for-training\" data-toc-modified-id=\"Tips-for-training-162\"><span class=\"toc-item-num\">1.6.2&nbsp;&nbsp;</span>Tips for training</a></div><div class=\"lev3 toc-item\"><a href=\"#Going-above-and-beyond\" data-toc-modified-id=\"Going-above-and-beyond-163\"><span class=\"toc-item-num\">1.6.3&nbsp;&nbsp;</span>Going above and beyond</a></div><div class=\"lev3 toc-item\"><a href=\"#What-we-expect\" data-toc-modified-id=\"What-we-expect-164\"><span class=\"toc-item-num\">1.6.4&nbsp;&nbsp;</span>What we expect</a></div><div class=\"lev4 toc-item\"><a href=\"#Experimenting-with-Filter-Size.\" data-toc-modified-id=\"Experimenting-with-Filter-Size.-1641\"><span class=\"toc-item-num\">1.6.4.1&nbsp;&nbsp;</span>Experimenting with Filter Size.</a></div><div class=\"lev4 toc-item\"><a href=\"#2-hidden-layers-architecture-(without-dropout)\" data-toc-modified-id=\"2-hidden-layers-architecture-(without-dropout)-1642\"><span class=\"toc-item-num\">1.6.4.2&nbsp;&nbsp;</span>2 hidden layers architecture (without dropout)</a></div><div class=\"lev4 toc-item\"><a href=\"#2-hidden-layers-architecture-(with-dropout-after-conv-layers)\" data-toc-modified-id=\"2-hidden-layers-architecture-(with-dropout-after-conv-layers)-1643\"><span class=\"toc-item-num\">1.6.4.3&nbsp;&nbsp;</span>2 hidden layers architecture (with dropout after conv layers)</a></div><div class=\"lev4 toc-item\"><a href=\"#Final-model\" data-toc-modified-id=\"Final-model-1644\"><span class=\"toc-item-num\">1.6.4.4&nbsp;&nbsp;</span>Final model</a></div><div class=\"lev3 toc-item\"><a href=\"#Describe-what-you-did\" data-toc-modified-id=\"Describe-what-you-did-165\"><span class=\"toc-item-num\">1.6.5&nbsp;&nbsp;</span>Describe what you did</a></div><div class=\"lev2 toc-item\"><a href=\"#Test-set----run-this-only-once\" data-toc-modified-id=\"Test-set----run-this-only-once-17\"><span class=\"toc-item-num\">1.7&nbsp;&nbsp;</span>Test set -- run this only once</a></div><div class=\"lev2 toc-item\"><a href=\"#Going-further-with-PyTorch\" data-toc-modified-id=\"Going-further-with-PyTorch-18\"><span class=\"toc-item-num\">1.8&nbsp;&nbsp;</span>Going further with PyTorch</a></div>"
   ]
  },
  {
   "cell_type": "markdown",
   "metadata": {},
   "source": [
    "# Training a ConvNet PyTorch\n",
    "\n",
    "In this notebook, you'll learn how to use the powerful PyTorch framework to specify a conv net architecture and train it on the CIFAR-10 dataset."
   ]
  },
  {
   "cell_type": "code",
   "execution_count": 1,
   "metadata": {
    "collapsed": true
   },
   "outputs": [],
   "source": [
    "import torch\n",
    "import torch.nn as nn\n",
    "import torch.optim as optim\n",
    "from torch.autograd import Variable\n",
    "from torch.utils.data import DataLoader\n",
    "from torch.utils.data import sampler\n",
    "\n",
    "import torchvision.datasets as dset\n",
    "import torchvision.transforms as T\n",
    "\n",
    "import numpy as np\n",
    "\n",
    "import timeit"
   ]
  },
  {
   "cell_type": "markdown",
   "metadata": {},
   "source": [
    "## What's this PyTorch business?\n",
    "\n",
    "You've written a lot of code in this assignment to provide a whole host of neural network functionality. Dropout, Batch Norm, and 2D convolutions are some of the workhorses of deep learning in computer vision. You've also worked hard to make your code efficient and vectorized.\n",
    "\n",
    "For the last part of this assignment, though, we're going to leave behind your beautiful codebase and instead migrate to one of two popular deep learning frameworks: in this instance, PyTorch (or TensorFlow, if you switch over to that notebook). \n",
    "\n",
    "Why?\n",
    "\n",
    "* Our code will now run on GPUs! Much faster training. When using a framework like PyTorch or TensorFlow you can harness the power of the GPU for your own custom neural network architectures without having to write CUDA code directly (which is beyond the scope of this class).\n",
    "* We want you to be ready to use one of these frameworks for your project so you can experiment more efficiently than if you were writing every feature you want to use by hand. \n",
    "* We want you to stand on the shoulders of giants! TensorFlow and PyTorch are both excellent frameworks that will make your lives a lot easier, and now that you understand their guts, you are free to use them :) \n",
    "* We want you to be exposed to the sort of deep learning code you might run into in academia or industry. "
   ]
  },
  {
   "cell_type": "markdown",
   "metadata": {},
   "source": [
    "## How will I learn PyTorch?\n",
    "\n",
    "If you've used Torch before, but are new to PyTorch, this tutorial might be of use: http://pytorch.org/tutorials/beginner/former_torchies_tutorial.html\n",
    "\n",
    "Otherwise, this notebook will walk you through much of what you need to do to train models in Torch. See the end of the notebook for some links to helpful tutorials if you want to learn more or need further clarification on topics that aren't fully explained here."
   ]
  },
  {
   "cell_type": "markdown",
   "metadata": {},
   "source": [
    "## Load Datasets\n",
    "\n",
    "We load the CIFAR-10 dataset. This might take a couple minutes the first time you do it, but the files should stay cached after that."
   ]
  },
  {
   "cell_type": "code",
   "execution_count": 2,
   "metadata": {
    "collapsed": false
   },
   "outputs": [
    {
     "name": "stdout",
     "output_type": "stream",
     "text": [
      "Downloading http://www.cs.toronto.edu/~kriz/cifar-10-python.tar.gz to ./cs231n/datasets/cifar-10-python.tar.gz\n",
      "Files already downloaded and verified\n",
      "Files already downloaded and verified\n"
     ]
    }
   ],
   "source": [
    "class ChunkSampler(sampler.Sampler):\n",
    "    \"\"\"Samples elements sequentially from some offset. \n",
    "    Arguments:\n",
    "        num_samples: # of desired datapoints\n",
    "        start: offset where we should start selecting from\n",
    "    \"\"\"\n",
    "    def __init__(self, num_samples, start = 0):\n",
    "        self.num_samples = num_samples\n",
    "        self.start = start\n",
    "\n",
    "    def __iter__(self):\n",
    "        return iter(range(self.start, self.start + self.num_samples))\n",
    "\n",
    "    def __len__(self):\n",
    "        return self.num_samples\n",
    "\n",
    "NUM_TRAIN = 49000\n",
    "NUM_VAL = 1000\n",
    "\n",
    "cifar10_train = dset.CIFAR10('./cs231n/datasets', train=True, download=True,\n",
    "                           transform=T.ToTensor())\n",
    "loader_train = DataLoader(cifar10_train, batch_size=64, sampler=ChunkSampler(NUM_TRAIN, 0))\n",
    "\n",
    "cifar10_val = dset.CIFAR10('./cs231n/datasets', train=True, download=True,\n",
    "                           transform=T.ToTensor())\n",
    "loader_val = DataLoader(cifar10_val, batch_size=64, sampler=ChunkSampler(NUM_VAL, NUM_TRAIN))\n",
    "\n",
    "cifar10_test = dset.CIFAR10('./cs231n/datasets', train=False, download=True,\n",
    "                          transform=T.ToTensor())\n",
    "loader_test = DataLoader(cifar10_test, batch_size=64)\n"
   ]
  },
  {
   "cell_type": "markdown",
   "metadata": {},
   "source": [
    "For now, we're going to use a CPU-friendly datatype. Later, we'll switch to a datatype that will move all our computations to the GPU and measure the speedup."
   ]
  },
  {
   "cell_type": "code",
   "execution_count": 22,
   "metadata": {
    "collapsed": true
   },
   "outputs": [],
   "source": [
    "dtype = torch.FloatTensor # the CPU datatype\n",
    "\n",
    "# Constant to control how frequently we print train loss\n",
    "print_every = 100\n",
    "\n",
    "# This is a little utility that we'll use to reset the model\n",
    "# if we want to re-initialize all our parameters\n",
    "def reset(m):\n",
    "    if hasattr(m, 'reset_parameters'):\n",
    "        m.reset_parameters()"
   ]
  },
  {
   "cell_type": "markdown",
   "metadata": {},
   "source": [
    "## Example Model\n",
    "\n",
    "### Some assorted tidbits\n",
    "\n",
    "Let's start by looking at a simple model. First, note that PyTorch operates on Tensors, which are n-dimensional arrays functionally analogous to numpy's ndarrays, with the additional feature that they can be used for computations on GPUs.\n",
    "\n",
    "We'll provide you with a Flatten function, which we explain here. Remember that our image data (and more relevantly, our intermediate feature maps) are initially N x C x H x W, where:\n",
    "* N is the number of datapoints\n",
    "* C is the number of channels\n",
    "* H is the height of the intermediate feature map in pixels\n",
    "* W is the height of the intermediate feature map in pixels\n",
    "\n",
    "This is the right way to represent the data when we are doing something like a 2D convolution, that needs spatial understanding of where the intermediate features are relative to each other. When we input  data into fully connected affine layers, however, we want each datapoint to be represented by a single vector -- it's no longer useful to segregate the different channels, rows, and columns of the data. So, we use a \"Flatten\" operation to collapse the C x H x W values per representation into a single long vector. The Flatten function below first reads in the N, C, H, and W values from a given batch of data, and then returns a \"view\" of that data. \"View\" is analogous to numpy's \"reshape\" method: it reshapes x's dimensions to be N x ??, where ?? is allowed to be anything (in this case, it will be C x H x W, but we don't need to specify that explicitly). "
   ]
  },
  {
   "cell_type": "code",
   "execution_count": 23,
   "metadata": {
    "collapsed": true
   },
   "outputs": [],
   "source": [
    "class Flatten(nn.Module):\n",
    "    def forward(self, x):\n",
    "        N, C, H, W = x.size() # read in N, C, H, W\n",
    "        return x.view(N, -1)  # \"flatten\" the C * H * W values into a single vector per image"
   ]
  },
  {
   "cell_type": "markdown",
   "metadata": {},
   "source": [
    "### The example model itself\n",
    "\n",
    "The first step to training your own model is defining its architecture.\n",
    "\n",
    "Here's an example of a convolutional neural network defined in PyTorch -- try to understand what each line is doing, remembering that each layer is composed upon the previous layer. We haven't trained anything yet - that'll come next - for now, we want you to understand how everything gets set up.  nn.Sequential is a container which applies each layer\n",
    "one after the other.\n",
    "\n",
    "In that example, you see 2D convolutional layers (Conv2d), ReLU activations, and fully-connected layers (Linear). You also see the Cross-Entropy loss function, and the Adam optimizer being used. \n",
    "\n",
    "Make sure you understand why the parameters of the Linear layer are 5408 and 10.\n"
   ]
  },
  {
   "cell_type": "code",
   "execution_count": 24,
   "metadata": {
    "collapsed": true
   },
   "outputs": [],
   "source": [
    "# Here's where we define the architecture of the model... \n",
    "simple_model = nn.Sequential(\n",
    "                nn.Conv2d(3, 32, kernel_size=7, stride=2),\n",
    "                nn.ReLU(inplace=True),\n",
    "                Flatten(), # see above for explanation\n",
    "                nn.Linear(5408, 10), # affine layer\n",
    "              )\n",
    "\n",
    "# Set the type of all data in this model to be FloatTensor \n",
    "simple_model.type(dtype)\n",
    "\n",
    "loss_fn = nn.CrossEntropyLoss().type(dtype)\n",
    "optimizer = optim.Adam(simple_model.parameters(), lr=1e-2) # lr sets the learning rate of the optimizer"
   ]
  },
  {
   "cell_type": "markdown",
   "metadata": {},
   "source": [
    "PyTorch supports many other layer types, loss functions, and optimizers - you will experiment with these next. Here's the official API documentation for these (if any of the parameters used above were unclear, this resource will also be helpful). One note: what we call in the class \"spatial batch norm\" is called \"BatchNorm2D\" in PyTorch.\n",
    "\n",
    "* Layers: http://pytorch.org/docs/nn.html\n",
    "* Activations: http://pytorch.org/docs/nn.html#non-linear-activations\n",
    "* Loss functions: http://pytorch.org/docs/nn.html#loss-functions\n",
    "* Optimizers: http://pytorch.org/docs/optim.html#algorithms"
   ]
  },
  {
   "cell_type": "markdown",
   "metadata": {},
   "source": [
    "## Training a specific model\n",
    "\n",
    "In this section, we're going to specify a model for you to construct. The goal here isn't to get good performance (that'll be next), but instead to get comfortable with understanding the PyTorch documentation and configuring your own model. \n",
    "\n",
    "Using the code provided above as guidance, and using the following PyTorch documentation, specify a model with the following architecture:\n",
    "\n",
    "* 7x7 Convolutional Layer with 32 filters and stride of 1\n",
    "* ReLU Activation Layer\n",
    "* Spatial Batch Normalization Layer\n",
    "* 2x2 Max Pooling layer with a stride of 2\n",
    "* Affine layer with 1024 output units\n",
    "* ReLU Activation Layer\n",
    "* Affine layer from 1024 input units to 10 outputs\n",
    "\n",
    "And finally, set up a **cross-entropy** loss function and the **RMSprop** learning rule."
   ]
  },
  {
   "cell_type": "code",
   "execution_count": 25,
   "metadata": {
    "collapsed": true
   },
   "outputs": [],
   "source": [
    "fixed_model_base = nn.Sequential( # You fill this in!\n",
    "    nn.Conv2d(3, 32, kernel_size=7, stride=1, padding=0), \n",
    "    nn.ReLU(inplace=True),\n",
    "    nn.BatchNorm2d(32),\n",
    "    nn.MaxPool2d(kernel_size=2, stride=2),\n",
    "    Flatten(),\n",
    "    nn.Linear(32*13*13, 1024),\n",
    "    nn.ReLU(inplace=True),\n",
    "    nn.Linear(1024, 10)\n",
    "            )\n",
    "\n",
    "fixed_model = fixed_model_base.type(dtype)\n",
    "loss_fn = nn.CrossEntropyLoss().type(dtype)\n",
    "optimizer = optim.RMSprop(fixed_model.parameters())"
   ]
  },
  {
   "cell_type": "markdown",
   "metadata": {},
   "source": [
    "To make sure you're doing the right thing, use the following tool to check the dimensionality of your output (it should be 64 x 10, since our batches have size 64 and the output of the final affine layer should be 10, corresponding to our 10 classes):"
   ]
  },
  {
   "cell_type": "code",
   "execution_count": 26,
   "metadata": {
    "collapsed": false
   },
   "outputs": [
    {
     "data": {
      "text/plain": [
       "True"
      ]
     },
     "execution_count": 26,
     "metadata": {},
     "output_type": "execute_result"
    }
   ],
   "source": [
    "## Now we're going to feed a random batch into the model you defined and make sure the output is the right size\n",
    "x = torch.randn(64, 3, 32, 32).type(dtype)\n",
    "x_var = Variable(x.type(dtype)) # Construct a PyTorch Variable out of your input data\n",
    "ans = fixed_model(x_var)        # Feed it through the model! \n",
    "\n",
    "# Check to make sure what comes out of your model\n",
    "# is the right dimensionality... this should be True\n",
    "# if you've done everything correctly\n",
    "np.array_equal(np.array(ans.size()), np.array([64, 10]))       "
   ]
  },
  {
   "cell_type": "markdown",
   "metadata": {},
   "source": [
    "### GPU!\n",
    "\n",
    "Now, we're going to switch the dtype of the model and our data to the GPU-friendly tensors, and see what happens... everything is the same, except we are casting our model and input tensors as this new dtype instead of the old one.\n",
    "\n",
    "If this returns false, or otherwise fails in a not-graceful way (i.e., with some error message), you may not have an NVIDIA GPU available on your machine. If you're running locally, we recommend you switch to Google Cloud and follow the instructions to set up a GPU there. If you're already on Google Cloud, something is wrong -- make sure you followed the instructions on how to request and use a GPU on your instance. If you did, post on Piazza or come to Office Hours so we can help you debug."
   ]
  },
  {
   "cell_type": "code",
   "execution_count": 27,
   "metadata": {
    "collapsed": false
   },
   "outputs": [
    {
     "data": {
      "text/plain": [
       "True"
      ]
     },
     "execution_count": 27,
     "metadata": {},
     "output_type": "execute_result"
    }
   ],
   "source": [
    "# Verify that CUDA is properly configured and you have a GPU available\n",
    "\n",
    "torch.cuda.is_available()"
   ]
  },
  {
   "cell_type": "code",
   "execution_count": 28,
   "metadata": {
    "collapsed": false
   },
   "outputs": [
    {
     "data": {
      "text/plain": [
       "True"
      ]
     },
     "execution_count": 28,
     "metadata": {},
     "output_type": "execute_result"
    }
   ],
   "source": [
    "import copy\n",
    "gpu_dtype = torch.cuda.FloatTensor\n",
    "\n",
    "fixed_model_gpu = copy.deepcopy(fixed_model_base).type(gpu_dtype)\n",
    "\n",
    "x_gpu = torch.randn(64, 3, 32, 32).type(gpu_dtype)\n",
    "x_var_gpu = Variable(x.type(gpu_dtype)) # Construct a PyTorch Variable out of your input data\n",
    "ans = fixed_model_gpu(x_var_gpu)        # Feed it through the model! \n",
    "\n",
    "# Check to make sure what comes out of your model\n",
    "# is the right dimensionality... this should be True\n",
    "# if you've done everything correctly\n",
    "np.array_equal(np.array(ans.size()), np.array([64, 10]))"
   ]
  },
  {
   "cell_type": "markdown",
   "metadata": {},
   "source": [
    "Run the following cell to evaluate the performance of the forward pass running on the CPU:"
   ]
  },
  {
   "cell_type": "code",
   "execution_count": 29,
   "metadata": {
    "collapsed": false
   },
   "outputs": [
    {
     "name": "stdout",
     "output_type": "stream",
     "text": [
      "33.4 ms ± 5.54 ms per loop (mean ± std. dev. of 7 runs, 10 loops each)\n"
     ]
    }
   ],
   "source": [
    "%%timeit \n",
    "ans = fixed_model(x_var)"
   ]
  },
  {
   "cell_type": "markdown",
   "metadata": {},
   "source": [
    "... and now the GPU:"
   ]
  },
  {
   "cell_type": "code",
   "execution_count": 30,
   "metadata": {
    "collapsed": false
   },
   "outputs": [
    {
     "name": "stdout",
     "output_type": "stream",
     "text": [
      "1.84 ms ± 571 ns per loop (mean ± std. dev. of 7 runs, 1000 loops each)\n"
     ]
    }
   ],
   "source": [
    "%%timeit \n",
    "torch.cuda.synchronize() # Make sure there are no pending GPU computations\n",
    "ans = fixed_model_gpu(x_var_gpu)        # Feed it through the model! \n",
    "torch.cuda.synchronize() # Make sure there are no pending GPU computations"
   ]
  },
  {
   "cell_type": "markdown",
   "metadata": {},
   "source": [
    "You should observe that even a simple forward pass like this is significantly faster on the GPU. So for the rest of the assignment (and when you go train your models in assignment 3 and your project!), you should use the GPU datatype for your model and your tensors: as a reminder that is *torch.cuda.FloatTensor* (in our notebook here as *gpu_dtype*)"
   ]
  },
  {
   "cell_type": "markdown",
   "metadata": {},
   "source": [
    "### Train the model.\n",
    "\n",
    "Now that you've seen how to define a model and do a single forward pass of some data through it, let's  walk through how you'd actually train one whole epoch over your training data (using the simple_model we provided above).\n",
    "\n",
    "Make sure you understand how each PyTorch function used below corresponds to what you implemented in your custom neural network implementation.\n",
    "\n",
    "Note that because we are not resetting the weights anywhere below, if you run the cell multiple times, you are effectively training multiple epochs (so your performance should improve).\n",
    "\n",
    "First, set up an RMSprop optimizer (using a 1e-3 learning rate) and a cross-entropy loss function:"
   ]
  },
  {
   "cell_type": "code",
   "execution_count": 31,
   "metadata": {
    "collapsed": true
   },
   "outputs": [],
   "source": [
    "loss_fn = nn.CrossEntropyLoss().type(gpu_dtype)\n",
    "optimizer = optim.RMSprop(fixed_model_gpu.parameters(),  lr=1e-3)\n",
    "pass\n"
   ]
  },
  {
   "cell_type": "code",
   "execution_count": 32,
   "metadata": {
    "collapsed": false
   },
   "outputs": [
    {
     "name": "stdout",
     "output_type": "stream",
     "text": [
      "t = 100, loss = 1.4397\n",
      "t = 200, loss = 1.5182\n",
      "t = 300, loss = 1.3839\n",
      "t = 400, loss = 1.3544\n",
      "t = 500, loss = 1.2102\n",
      "t = 600, loss = 1.2348\n",
      "t = 700, loss = 1.2272\n"
     ]
    }
   ],
   "source": [
    "# This sets the model in \"training\" mode. This is relevant for some layers that may have different behavior\n",
    "# in training mode vs testing mode, such as Dropout and BatchNorm. \n",
    "fixed_model_gpu.train()\n",
    "\n",
    "# Load one batch at a time.\n",
    "for t, (x, y) in enumerate(loader_train):\n",
    "    x_var = Variable(x.type(gpu_dtype))\n",
    "    y_var = Variable(y.type(gpu_dtype).long())\n",
    "\n",
    "    # This is the forward pass: predict the scores for each class, for each x in the batch.\n",
    "    scores = fixed_model_gpu(x_var)\n",
    "    \n",
    "    # Use the correct y values and the predicted y values to compute the loss.\n",
    "    loss = loss_fn(scores, y_var)\n",
    "    \n",
    "    if (t + 1) % print_every == 0:\n",
    "        print('t = %d, loss = %.4f' % (t + 1, loss.data[0]))\n",
    "\n",
    "    # Zero out all of the gradients for the variables which the optimizer will update.\n",
    "    optimizer.zero_grad()\n",
    "    \n",
    "    # This is the backwards pass: compute the gradient of the loss with respect to each \n",
    "    # parameter of the model.\n",
    "    loss.backward()\n",
    "    \n",
    "    # Actually update the parameters of the model using the gradients computed by the backwards pass.\n",
    "    optimizer.step()"
   ]
  },
  {
   "cell_type": "markdown",
   "metadata": {},
   "source": [
    "Now you've seen how the training process works in PyTorch. To save you writing boilerplate code, we're providing the following helper functions to help you train for multiple epochs and check the accuracy of your model:"
   ]
  },
  {
   "cell_type": "code",
   "execution_count": 33,
   "metadata": {
    "collapsed": true
   },
   "outputs": [],
   "source": [
    "def train(model, loss_fn, optimizer, num_epochs = 1):\n",
    "    for epoch in range(num_epochs):\n",
    "        print('Starting epoch %d / %d' % (epoch + 1, num_epochs))\n",
    "        model.train()\n",
    "        for t, (x, y) in enumerate(loader_train):\n",
    "            x_var = Variable(x.type(gpu_dtype))\n",
    "            y_var = Variable(y.type(gpu_dtype).long())\n",
    "\n",
    "            scores = model(x_var)\n",
    "            \n",
    "            loss = loss_fn(scores, y_var)\n",
    "            if (t + 1) % print_every == 0:\n",
    "                print('t = %d, loss = %.4f' % (t + 1, loss.data[0]))\n",
    "\n",
    "            optimizer.zero_grad()\n",
    "            loss.backward()\n",
    "            optimizer.step()\n",
    "\n",
    "def check_accuracy(model, loader):\n",
    "    if loader.dataset.train:\n",
    "        print('Checking accuracy on validation set')\n",
    "    else:\n",
    "        print('Checking accuracy on test set')   \n",
    "    num_correct = 0\n",
    "    num_samples = 0\n",
    "    model.eval() # Put the model in test mode (the opposite of model.train(), essentially)\n",
    "    for x, y in loader:\n",
    "        x_var = Variable(x.type(gpu_dtype), volatile=True)\n",
    "\n",
    "        scores = model(x_var)\n",
    "        _, preds = scores.data.cpu().max(1)\n",
    "        num_correct += (preds == y).sum()\n",
    "        num_samples += preds.size(0)\n",
    "    acc = float(num_correct) / num_samples\n",
    "    print('Got %d / %d correct (%.2f)' % (num_correct, num_samples, 100 * acc))"
   ]
  },
  {
   "cell_type": "markdown",
   "metadata": {},
   "source": [
    "### Check the accuracy of the model.\n",
    "\n",
    "Let's see the train and check_accuracy code in action -- feel free to use these methods when evaluating the models you develop below.\n",
    "\n",
    "You should get a training loss of around 1.2-1.4, and a validation accuracy of around 50-60%. As mentioned above, if you re-run the cells, you'll be training more epochs, so your performance will improve past these numbers.\n",
    "\n",
    "But don't worry about getting these numbers better -- this was just practice before you tackle designing your own model."
   ]
  },
  {
   "cell_type": "code",
   "execution_count": 34,
   "metadata": {
    "collapsed": false
   },
   "outputs": [
    {
     "name": "stdout",
     "output_type": "stream",
     "text": [
      "Starting epoch 1 / 1\n",
      "t = 100, loss = 1.3679\n",
      "t = 200, loss = 1.4541\n",
      "t = 300, loss = 1.3983\n",
      "t = 400, loss = 1.2109\n",
      "t = 500, loss = 1.1612\n",
      "t = 600, loss = 1.3429\n",
      "t = 700, loss = 1.2067\n",
      "Checking accuracy on validation set\n",
      "Got 549 / 1000 correct (54.90)\n"
     ]
    }
   ],
   "source": [
    "torch.cuda.random.manual_seed(12345)\n",
    "fixed_model_gpu.apply(reset)\n",
    "train(fixed_model_gpu, loss_fn, optimizer, num_epochs=1)\n",
    "check_accuracy(fixed_model_gpu, loader_val)"
   ]
  },
  {
   "cell_type": "markdown",
   "metadata": {},
   "source": [
    "** Note to self**: Run another epoch in the cell below."
   ]
  },
  {
   "cell_type": "code",
   "execution_count": 35,
   "metadata": {
    "collapsed": false
   },
   "outputs": [
    {
     "name": "stdout",
     "output_type": "stream",
     "text": [
      "Starting epoch 1 / 1\n",
      "t = 100, loss = 0.9439\n",
      "t = 200, loss = 1.1619\n",
      "t = 300, loss = 0.9841\n",
      "t = 400, loss = 0.9933\n",
      "t = 500, loss = 0.7780\n",
      "t = 600, loss = 0.9626\n",
      "t = 700, loss = 0.7723\n",
      "Checking accuracy on validation set\n",
      "Got 554 / 1000 correct (55.40)\n"
     ]
    }
   ],
   "source": [
    "# 2nd epoch\n",
    "torch.cuda.random.manual_seed(12346)\n",
    "# fixed_model_gpu.apply(reset) # this line is commented to run the next epoch\n",
    "train(fixed_model_gpu, loss_fn, optimizer, num_epochs=1)\n",
    "check_accuracy(fixed_model_gpu, loader_val)"
   ]
  },
  {
   "cell_type": "code",
   "execution_count": 36,
   "metadata": {
    "collapsed": false
   },
   "outputs": [
    {
     "name": "stdout",
     "output_type": "stream",
     "text": [
      "Starting epoch 1 / 1\n",
      "t = 100, loss = 0.7264\n",
      "t = 200, loss = 0.7211\n",
      "t = 300, loss = 0.6496\n",
      "t = 400, loss = 0.6891\n",
      "t = 500, loss = 0.4982\n",
      "t = 600, loss = 0.6731\n",
      "t = 700, loss = 0.4415\n",
      "Checking accuracy on validation set\n",
      "Got 562 / 1000 correct (56.20)\n"
     ]
    }
   ],
   "source": [
    "# 3rd epoch\n",
    "torch.cuda.random.manual_seed(12347)\n",
    "# fixed_model_gpu.apply(reset) # this line is commented to run the next epoch\n",
    "train(fixed_model_gpu, loss_fn, optimizer, num_epochs=1)\n",
    "check_accuracy(fixed_model_gpu, loader_val)"
   ]
  },
  {
   "cell_type": "markdown",
   "metadata": {},
   "source": [
    "### Don't forget the validation set!\n",
    "\n",
    "And note that you can use the check_accuracy function to evaluate on either the test set or the validation set, by passing either **loader_test** or **loader_val** as the second argument to check_accuracy. You should not touch the test set until you have finished your architecture and hyperparameter tuning, and only run the test set once at the end to report a final value. "
   ]
  },
  {
   "cell_type": "markdown",
   "metadata": {},
   "source": [
    "## Train a _great_ model on CIFAR-10!\n",
    "\n",
    "Now it's your job to experiment with architectures, hyperparameters, loss functions, and optimizers to train a model that achieves **>=70%** accuracy on the CIFAR-10 **validation** set. You can use the check_accuracy and train functions from above."
   ]
  },
  {
   "cell_type": "markdown",
   "metadata": {},
   "source": [
    "### Things you should try:\n",
    "- **Filter size**: Above we used 7x7; this makes pretty pictures but smaller filters may be more efficient\n",
    "- **Number of filters**: Above we used 32 filters. Do more or fewer do better?\n",
    "- **Pooling vs Strided Convolution**: Do you use max pooling or just stride convolutions?\n",
    "- **Batch normalization**: Try adding spatial batch normalization after convolution layers and vanilla batch normalization after affine layers. Do your networks train faster?\n",
    "- **Network architecture**: The network above has two layers of trainable parameters. Can you do better with a deep network? Good architectures to try include:\n",
    "    - [conv-relu-pool]xN -> [affine]xM -> [softmax or SVM]\n",
    "    - [conv-relu-conv-relu-pool]xN -> [affine]xM -> [softmax or SVM]\n",
    "    - [batchnorm-relu-conv]xN -> [affine]xM -> [softmax or SVM]\n",
    "- **Global Average Pooling**: Instead of flattening and then having multiple affine layers, perform convolutions until your image gets small (7x7 or so) and then perform an average pooling operation to get to a 1x1 image picture (1, 1 , Filter#), which is then reshaped into a (Filter#) vector. This is used in [Google's Inception Network](https://arxiv.org/abs/1512.00567) (See Table 1 for their architecture).\n",
    "- **Regularization**: Add l2 weight regularization, or perhaps use Dropout.\n",
    "\n",
    "### Tips for training\n",
    "For each network architecture that you try, you should tune the learning rate and regularization strength. When doing this there are a couple important things to keep in mind:\n",
    "\n",
    "- If the parameters are working well, you should see improvement within a few hundred iterations\n",
    "- Remember the coarse-to-fine approach for hyperparameter tuning: start by testing a large range of hyperparameters for just a few training iterations to find the combinations of parameters that are working at all.\n",
    "- Once you have found some sets of parameters that seem to work, search more finely around these parameters. You may need to train for more epochs.\n",
    "- You should use the validation set for hyperparameter search, and save your test set for evaluating your architecture on the best parameters as selected by the validation set.\n",
    "\n",
    "### Going above and beyond\n",
    "If you are feeling adventurous there are many other features you can implement to try and improve your performance. You are **not required** to implement any of these; however they would be good things to try for extra credit.\n",
    "\n",
    "- Alternative update steps: For the assignment we implemented SGD+momentum, RMSprop, and Adam; you could try alternatives like AdaGrad or AdaDelta.\n",
    "- Alternative activation functions such as leaky ReLU, parametric ReLU, ELU, or MaxOut.\n",
    "- Model ensembles\n",
    "- Data augmentation\n",
    "- New Architectures\n",
    "  - [ResNets](https://arxiv.org/abs/1512.03385) where the input from the previous layer is added to the output.\n",
    "  - [DenseNets](https://arxiv.org/abs/1608.06993) where inputs into previous layers are concatenated together.\n",
    "  - [This blog has an in-depth overview](https://chatbotslife.com/resnets-highwaynets-and-densenets-oh-my-9bb15918ee32)\n",
    "\n",
    "If you do decide to implement something extra, clearly describe it in the \"Extra Credit Description\" cell below.\n",
    "\n",
    "### What we expect\n",
    "At the very least, you should be able to train a ConvNet that gets at least 70% accuracy on the validation set. This is just a lower bound - if you are careful it should be possible to get accuracies much higher than that! Extra credit points will be awarded for particularly high-scoring models or unique approaches.\n",
    "\n",
    "You should use the space below to experiment and train your network. \n",
    "\n",
    "Have fun and happy training!"
   ]
  },
  {
   "cell_type": "code",
   "execution_count": 37,
   "metadata": {
    "collapsed": true
   },
   "outputs": [],
   "source": [
    "def check_accuracy2(model, loader):\n",
    "    if loader.dataset.train:\n",
    "        print('Checking accuracy on validation set')\n",
    "    else:\n",
    "        print('Checking accuracy on test set')   \n",
    "    num_correct = 0\n",
    "    num_samples = 0\n",
    "    model.eval() # Put the model in test mode (the opposite of model.train(), essentially)\n",
    "    for x, y in loader:\n",
    "        x_var = Variable(x.type(gpu_dtype), volatile=True)\n",
    "\n",
    "        scores = model(x_var)\n",
    "        _, preds = scores.data.cpu().max(1)\n",
    "        num_correct += (preds == y).sum()\n",
    "        num_samples += preds.size(0)\n",
    "    acc = float(num_correct) / num_samples\n",
    "    print('Got %d / %d correct (%.2f)' % (num_correct, num_samples, 100 * acc))\n",
    "    return acc*100"
   ]
  },
  {
   "cell_type": "markdown",
   "metadata": {},
   "source": [
    "#### Experimenting with Filter Size.\n",
    "\n",
    "Using Adam optimizer"
   ]
  },
  {
   "cell_type": "code",
   "execution_count": 42,
   "metadata": {
    "collapsed": false
   },
   "outputs": [
    {
     "name": "stdout",
     "output_type": "stream",
     "text": [
      "Filter size: 3 and 0 padding.\n",
      "Starting epoch 1 / 1\n",
      "t = 100, loss = 1.2222\n",
      "t = 200, loss = 1.3295\n",
      "t = 300, loss = 1.3497\n",
      "t = 400, loss = 1.0228\n",
      "t = 500, loss = 0.9159\n",
      "t = 600, loss = 1.2096\n",
      "t = 700, loss = 1.1818\n",
      "Checking accuracy on validation set\n",
      "Got 30511 / 49000 correct (62.27)\n",
      "Checking accuracy on validation set\n",
      "Got 539 / 1000 correct (53.90)\n",
      "Filter size: 3 and 1 padding.\n",
      "Starting epoch 1 / 1\n",
      "t = 100, loss = 1.3509\n",
      "t = 200, loss = 1.3807\n",
      "t = 300, loss = 1.3396\n",
      "t = 400, loss = 1.1187\n",
      "t = 500, loss = 0.9454\n",
      "t = 600, loss = 1.2931\n",
      "t = 700, loss = 1.1954\n",
      "Checking accuracy on validation set\n",
      "Got 33478 / 49000 correct (68.32)\n",
      "Checking accuracy on validation set\n",
      "Got 602 / 1000 correct (60.20)\n",
      "Filter size: 5 and 0 padding.\n",
      "Starting epoch 1 / 1\n",
      "t = 100, loss = 1.2827\n",
      "t = 200, loss = 1.3604\n",
      "t = 300, loss = 1.2422\n",
      "t = 400, loss = 0.9916\n",
      "t = 500, loss = 1.0282\n",
      "t = 600, loss = 1.3597\n",
      "t = 700, loss = 1.1232\n",
      "Checking accuracy on validation set\n",
      "Got 31558 / 49000 correct (64.40)\n",
      "Checking accuracy on validation set\n",
      "Got 567 / 1000 correct (56.70)\n",
      "Filter size: 5 and 1 padding.\n",
      "Starting epoch 1 / 1\n",
      "t = 100, loss = 1.3356\n",
      "t = 200, loss = 1.2359\n",
      "t = 300, loss = 1.1982\n",
      "t = 400, loss = 1.0778\n",
      "t = 500, loss = 1.0613\n",
      "t = 600, loss = 1.1775\n",
      "t = 700, loss = 1.0728\n",
      "Checking accuracy on validation set\n",
      "Got 32924 / 49000 correct (67.19)\n",
      "Checking accuracy on validation set\n",
      "Got 607 / 1000 correct (60.70)\n",
      "Filter size: 5 and 2 padding.\n",
      "Starting epoch 1 / 1\n",
      "t = 100, loss = 1.3177\n",
      "t = 200, loss = 1.3995\n",
      "t = 300, loss = 1.3059\n",
      "t = 400, loss = 0.9966\n",
      "t = 500, loss = 1.0763\n",
      "t = 600, loss = 1.2597\n",
      "t = 700, loss = 1.1549\n",
      "Checking accuracy on validation set\n",
      "Got 31732 / 49000 correct (64.76)\n",
      "Checking accuracy on validation set\n",
      "Got 582 / 1000 correct (58.20)\n",
      "Filter size: 7 and 0 padding.\n",
      "Starting epoch 1 / 1\n",
      "t = 100, loss = 1.2930\n",
      "t = 200, loss = 1.3960\n",
      "t = 300, loss = 1.4015\n",
      "t = 400, loss = 1.0461\n",
      "t = 500, loss = 1.0420\n",
      "t = 600, loss = 1.3201\n",
      "t = 700, loss = 1.1542\n",
      "Checking accuracy on validation set\n",
      "Got 30729 / 49000 correct (62.71)\n",
      "Checking accuracy on validation set\n",
      "Got 571 / 1000 correct (57.10)\n",
      "Filter size: 7 and 1 padding.\n",
      "Starting epoch 1 / 1\n",
      "t = 100, loss = 1.2757\n",
      "t = 200, loss = 1.3537\n",
      "t = 300, loss = 1.4605\n",
      "t = 400, loss = 1.1688\n",
      "t = 500, loss = 1.1274\n",
      "t = 600, loss = 1.2596\n",
      "t = 700, loss = 1.3036\n",
      "Checking accuracy on validation set\n",
      "Got 30463 / 49000 correct (62.17)\n",
      "Checking accuracy on validation set\n",
      "Got 554 / 1000 correct (55.40)\n",
      "Filter size: 7 and 2 padding.\n",
      "Starting epoch 1 / 1\n",
      "t = 100, loss = 1.3876\n",
      "t = 200, loss = 1.3452\n",
      "t = 300, loss = 1.2770\n",
      "t = 400, loss = 1.0879\n",
      "t = 500, loss = 1.1973\n",
      "t = 600, loss = 1.2165\n",
      "t = 700, loss = 1.1442\n",
      "Checking accuracy on validation set\n",
      "Got 28804 / 49000 correct (58.78)\n",
      "Checking accuracy on validation set\n",
      "Got 516 / 1000 correct (51.60)\n",
      "Filter size: 7 and 3 padding.\n",
      "Starting epoch 1 / 1\n",
      "t = 100, loss = 1.3723\n",
      "t = 200, loss = 1.4643\n",
      "t = 300, loss = 1.3212\n",
      "t = 400, loss = 1.0973\n",
      "t = 500, loss = 1.0642\n",
      "t = 600, loss = 1.3611\n",
      "t = 700, loss = 1.2470\n",
      "Checking accuracy on validation set\n",
      "Got 31027 / 49000 correct (63.32)\n",
      "Checking accuracy on validation set\n",
      "Got 585 / 1000 correct (58.50)\n"
     ]
    }
   ],
   "source": [
    "filter_sizes = [3, 5, 7]; accs = []\n",
    "num_hidden = 32 # the number of filters output from first Conv layer.\n",
    "stride = 1 # stride to take in the first conv layer\n",
    "pool_kernel_size = 2; pool_stride = 2 # parameters for the max pooling layer\n",
    "\n",
    "# define filter size\n",
    "for filter_size in filter_sizes:\n",
    "    # define padding range\n",
    "    pad_range = int(filter_size/2)\n",
    "    for padding in range(pad_range+1):\n",
    "        print('Filter size: %i and %i padding.' %(filter_size, padding))\n",
    "        \n",
    "        # calculate the size of the output of the first conv layer.\n",
    "        first_Linear_h = (32 - filter_size + 2*padding)/stride + 1 # after first conv layer\n",
    "        first_Linear_h = int((first_Linear_h - pool_kernel_size)/pool_stride + 1) # after max pooling\n",
    "        first_Linear_w = first_Linear_h\n",
    "        \n",
    "        # calculate the size of the input to the first linear layer.\n",
    "        first_Linear_dim = 32 * first_Linear_h * first_Linear_w\n",
    "        \n",
    "        model = nn.Sequential(\n",
    "            nn.Conv2d(3, num_hidden, kernel_size=filter_size, stride=stride, padding=padding), \n",
    "            nn.ReLU(inplace=True),\n",
    "            nn.BatchNorm2d(num_hidden),\n",
    "            nn.MaxPool2d(kernel_size=pool_kernel_size, stride=pool_stride),\n",
    "            Flatten(),\n",
    "            nn.Linear(first_Linear_dim, 1024),\n",
    "            nn.ReLU(inplace=True),\n",
    "            nn.Linear(1024, 10),\n",
    "            nn.LogSoftmax()\n",
    "                    ).type(gpu_dtype)\n",
    "\n",
    "        loss_fn = nn.CrossEntropyLoss().type(gpu_dtype)\n",
    "        optimizer = optim.Adam(model.parameters(), lr=1e-3)\n",
    "\n",
    "        train(model, loss_fn, optimizer, num_epochs=1)\n",
    "        accuracy = check_accuracy2(model, loader_train)\n",
    "        accuracy = check_accuracy2(model, loader_val)\n",
    "        accs.append(((filter_size, accuracy), (pad_range, accuracy)))"
   ]
  },
  {
   "cell_type": "code",
   "execution_count": 1,
   "metadata": {
    "collapsed": false
   },
   "outputs": [
    {
     "data": {
      "image/png": "[encoded data removed]",
      "text/plain": [
       "<matplotlib.figure.Figure at 0x1dfbfafd2b0>"
      ]
     },
     "metadata": {},
     "output_type": "display_data"
    }
   ],
   "source": [
    "# plot graph of accuracy to determine best model.\n",
    "from vis_utils import *\n",
    "\n",
    "X, Y = zip(*accs)\n",
    "\n",
    "vis_accuracy(X, Y, title1='acc v.s. filter size', title2='acc v.s. padding', xlab='filter size', ylab='padding')"
   ]
  },
  {
   "cell_type": "markdown",
   "metadata": {},
   "source": [
    "#### 2 hidden layers architecture (without dropout)"
   ]
  },
  {
   "cell_type": "code",
   "execution_count": 58,
   "metadata": {
    "collapsed": false
   },
   "outputs": [
    {
     "name": "stdout",
     "output_type": "stream",
     "text": [
      "Starting epoch 1 / 1\n",
      "t = 100, loss = 1.2592\n",
      "t = 200, loss = 1.3274\n",
      "t = 300, loss = 1.2987\n",
      "t = 400, loss = 0.9144\n",
      "t = 500, loss = 0.9973\n",
      "t = 600, loss = 1.2357\n",
      "t = 700, loss = 1.0270\n",
      "Checking accuracy on validation set\n",
      "Got 616 / 1000 correct (61.60)\n"
     ]
    }
   ],
   "source": [
    "# 2 conv layers without dropout\n",
    "filter_size = 5; padding1 = 1 # best filter size and padding from the previous experiment for the first conv.\n",
    "padding2 = 0 # no padding for the 2nd conv.\n",
    "depth1 = 32; depth2 = 64 # depth after the 1st and 2nd Conv layer respectively.\n",
    "\n",
    "stride = 1 # stride to take in the conv layer\n",
    "pool_kernel_size = 2; pool_stride = 2 # parameters for the max pooling layer\n",
    "\n",
    "# calculate the size of the input to the first linear layer.\n",
    "first_Linear_h = 32\n",
    "# size after conv layer\n",
    "for i, padding in enumerate([padding1, padding2]):\n",
    "    first_Linear_h = (first_Linear_h - filter_size + 2*padding)/stride + 1\n",
    "# size after max pooling\n",
    "first_Linear_h = int((first_Linear_h - pool_kernel_size)/pool_stride + 1)\n",
    "first_Linear_w = first_Linear_h\n",
    "# size to first linear layer\n",
    "first_linear_dim = depth2 * first_Linear_h * first_Linear_w\n",
    "\n",
    "model = nn.Sequential(\n",
    "    # 1st Conv layer\n",
    "    nn.Conv2d(3, depth1, kernel_size=filter_size, stride=stride, padding=padding1),\n",
    "    nn.ReLU(inplace=True),\n",
    "    nn.BatchNorm2d(depth1),\n",
    "    # 2nd Conv layer\n",
    "    nn.Conv2d(depth1, depth2, kernel_size=filter_size, stride=stride, padding=padding2),\n",
    "    nn.ReLU(inplace=True),\n",
    "    nn.BatchNorm2d(depth2),\n",
    "    # max pooling\n",
    "    nn.MaxPool2d(kernel_size=pool_kernel_size, stride=pool_stride),\n",
    "    # fully connect layers.\n",
    "    Flatten(),\n",
    "    nn.Linear(first_linear_dim, 1024),\n",
    "    nn.ReLU(inplace=True),\n",
    "    nn.Linear(1024, 10),\n",
    "    nn.LogSoftmax()\n",
    "            ).type(gpu_dtype)\n",
    "\n",
    "loss_fn = nn.CrossEntropyLoss().type(gpu_dtype)\n",
    "optimizer = optim.Adam(model.parameters(), lr=1e-3)\n",
    "\n",
    "train(model, loss_fn, optimizer, num_epochs=1)\n",
    "acc_2conv = check_accuracy2(model, loader_val)"
   ]
  },
  {
   "cell_type": "markdown",
   "metadata": {},
   "source": [
    "#### 2 hidden layers architecture (with dropout after conv layers)"
   ]
  },
  {
   "cell_type": "code",
   "execution_count": 63,
   "metadata": {
    "collapsed": false
   },
   "outputs": [
    {
     "name": "stdout",
     "output_type": "stream",
     "text": [
      "Starting epoch 1 / 1\n",
      "t = 100, loss = 1.5472\n",
      "t = 200, loss = 1.7347\n",
      "t = 300, loss = 1.7345\n",
      "t = 400, loss = 1.3634\n",
      "t = 500, loss = 1.3863\n",
      "t = 600, loss = 1.5507\n",
      "t = 700, loss = 1.5204\n",
      "Checking accuracy on validation set\n",
      "Got 542 / 1000 correct (54.20)\n"
     ]
    }
   ],
   "source": [
    "# 2 conv layers with dropout\n",
    "filter_size = 5; padding1 = 1 # best filter size and padding from the previous experiment for the first conv.\n",
    "padding2 = 0 # no padding for the 2nd conv.\n",
    "depth1 = 32; depth2 = 64 # depth after the 1st and 2nd Conv layer respectively.\n",
    "\n",
    "stride = 1 # stride to take in the conv layer\n",
    "pool_kernel_size = 2; pool_stride = 2 # parameters for the max pooling layer\n",
    "\n",
    "# calculate the size of the input to the first linear layer.\n",
    "first_Linear_h = 32\n",
    "# size after conv layer\n",
    "for i, padding in enumerate([padding1, padding2]):\n",
    "    first_Linear_h = (first_Linear_h - filter_size + 2*padding)/stride + 1\n",
    "# size after max pooling\n",
    "first_Linear_h = int((first_Linear_h - pool_kernel_size)/pool_stride + 1)\n",
    "first_Linear_w = first_Linear_h\n",
    "# size to first linear layer\n",
    "first_linear_dim = depth2 * first_Linear_h * first_Linear_w\n",
    "\n",
    "model = nn.Sequential(\n",
    "    # 1st Conv layer\n",
    "    nn.Conv2d(3, depth1, kernel_size=filter_size, stride=stride, padding=padding1),\n",
    "    nn.ReLU(inplace=True),\n",
    "    nn.BatchNorm2d(depth1),\n",
    "    nn.Dropout2d(p=0.5, inplace=True),\n",
    "    # 2nd Conv layer\n",
    "    nn.Conv2d(depth1, depth2, kernel_size=filter_size, stride=stride, padding=padding2),\n",
    "    nn.ReLU(inplace=True),\n",
    "    nn.BatchNorm2d(depth2),\n",
    "    nn.Dropout2d(p=0.5, inplace=True),\n",
    "    # max pooling\n",
    "    nn.MaxPool2d(kernel_size=pool_kernel_size, stride=pool_stride),\n",
    "    # fully connect layers.\n",
    "    Flatten(),\n",
    "    nn.Linear(first_linear_dim, 1024),\n",
    "    nn.ReLU(inplace=True),\n",
    "    nn.Linear(1024, 10),\n",
    "    nn.LogSoftmax()\n",
    "            ).type(gpu_dtype)\n",
    "\n",
    "loss_fn = nn.CrossEntropyLoss().type(gpu_dtype)\n",
    "optimizer = optim.Adam(model.parameters(), lr=1e-3)\n",
    "\n",
    "train(model, loss_fn, optimizer, num_epochs=1)\n",
    "acc_2conv_dropout = check_accuracy2(model, loader_val)"
   ]
  },
  {
   "cell_type": "markdown",
   "metadata": {},
   "source": [
    "#### Final model"
   ]
  },
  {
   "cell_type": "code",
   "execution_count": 67,
   "metadata": {
    "collapsed": false
   },
   "outputs": [
    {
     "name": "stdout",
     "output_type": "stream",
     "text": [
      "Starting epoch 1 / 1\n",
      "t = 100, loss = 1.3632\n",
      "t = 200, loss = 1.3396\n",
      "t = 300, loss = 1.2383\n",
      "t = 400, loss = 0.8721\n",
      "t = 500, loss = 0.9854\n",
      "t = 600, loss = 1.2039\n",
      "t = 700, loss = 0.9334\n",
      "After 1 epoch:\n",
      "Checking accuracy on validation set\n",
      "Got 655 / 1000 correct (65.50)\n",
      "Starting epoch 1 / 1\n",
      "t = 100, loss = 0.6984\n",
      "t = 200, loss = 0.8136\n",
      "t = 300, loss = 0.6532\n",
      "t = 400, loss = 0.5512\n",
      "t = 500, loss = 0.5856\n",
      "t = 600, loss = 0.9026\n",
      "t = 700, loss = 0.5694\n",
      "After 2 epoch:\n",
      "Checking accuracy on validation set\n",
      "Got 661 / 1000 correct (66.10)\n",
      "Starting epoch 1 / 1\n",
      "t = 100, loss = 0.3074\n",
      "t = 200, loss = 0.4247\n",
      "t = 300, loss = 0.3657\n",
      "t = 400, loss = 0.2766\n",
      "t = 500, loss = 0.3638\n",
      "t = 600, loss = 0.3086\n",
      "t = 700, loss = 0.3209\n",
      "After 3 epoch:\n",
      "Checking accuracy on validation set\n",
      "Got 676 / 1000 correct (67.60)\n",
      "Starting epoch 1 / 1\n",
      "t = 100, loss = 0.2033\n",
      "t = 200, loss = 0.1349\n",
      "t = 300, loss = 0.1273\n",
      "t = 400, loss = 0.2201\n",
      "t = 500, loss = 0.1895\n",
      "t = 600, loss = 0.0817\n",
      "t = 700, loss = 0.1148\n",
      "After 4 epoch:\n",
      "Checking accuracy on validation set\n",
      "Got 654 / 1000 correct (65.40)\n",
      "Starting epoch 1 / 1\n",
      "t = 100, loss = 0.0703\n",
      "t = 200, loss = 0.1034\n",
      "t = 300, loss = 0.2147\n",
      "t = 400, loss = 0.0997\n",
      "t = 500, loss = 0.1888\n",
      "t = 600, loss = 0.0409\n",
      "t = 700, loss = 0.0338\n",
      "After 5 epoch:\n",
      "Checking accuracy on validation set\n",
      "Got 694 / 1000 correct (69.40)\n",
      "Starting epoch 1 / 1\n",
      "t = 100, loss = 0.0947\n",
      "t = 200, loss = 0.1121\n",
      "t = 300, loss = 0.1583\n",
      "t = 400, loss = 0.1235\n",
      "t = 500, loss = 0.0737\n",
      "t = 600, loss = 0.1793\n",
      "t = 700, loss = 0.0335\n",
      "After 6 epoch:\n",
      "Checking accuracy on validation set\n",
      "Got 676 / 1000 correct (67.60)\n",
      "Starting epoch 1 / 1\n",
      "t = 100, loss = 0.1012\n",
      "t = 200, loss = 0.1224\n",
      "t = 300, loss = 0.0956\n",
      "t = 400, loss = 0.0502\n",
      "t = 500, loss = 0.0119\n",
      "t = 600, loss = 0.0934\n",
      "t = 700, loss = 0.0211\n",
      "After 7 epoch:\n",
      "Checking accuracy on validation set\n",
      "Got 695 / 1000 correct (69.50)\n",
      "Starting epoch 1 / 1\n",
      "t = 100, loss = 0.0415\n",
      "t = 200, loss = 0.1050\n",
      "t = 300, loss = 0.0214\n",
      "t = 400, loss = 0.0130\n",
      "t = 500, loss = 0.0532\n",
      "t = 600, loss = 0.0451\n",
      "t = 700, loss = 0.0451\n",
      "After 8 epoch:\n",
      "Checking accuracy on validation set\n",
      "Got 704 / 1000 correct (70.40)\n",
      "Starting epoch 1 / 1\n",
      "t = 100, loss = 0.0865\n",
      "t = 200, loss = 0.0447\n",
      "t = 300, loss = 0.1570\n",
      "t = 400, loss = 0.0440\n",
      "t = 500, loss = 0.0061\n",
      "t = 600, loss = 0.1567\n",
      "t = 700, loss = 0.1149\n",
      "After 9 epoch:\n",
      "Checking accuracy on validation set\n",
      "Got 695 / 1000 correct (69.50)\n"
     ]
    }
   ],
   "source": [
    "# Train your model here, and make sure the output of this cell is the accuracy of your best model on the \n",
    "# train, val, and test sets. Here's some code to get you started. The output of this cell should be the training\n",
    "# and validation accuracy on your best model (measured by validation accuracy).\n",
    "\n",
    "# 2 conv layers without dropout\n",
    "filter_size = 5; padding1 = 1 # best filter size and padding from the previous experiment for the first conv.\n",
    "padding2 = 0 # no padding for the 2nd conv.\n",
    "depth1 = 32; depth2 = 64 # depth after the 1st and 2nd Conv layer respectively.\n",
    "\n",
    "stride = 1 # stride to take in the conv layer\n",
    "pool_kernel_size = 2; pool_stride = 2 # parameters for the max pooling layer\n",
    "\n",
    "# calculate the size of the input to the first linear layer.\n",
    "first_Linear_h = 32\n",
    "# size after conv layer\n",
    "for i, padding in enumerate([padding1, padding2]):\n",
    "    first_Linear_h = (first_Linear_h - filter_size + 2*padding)/stride + 1\n",
    "# size after max pooling\n",
    "first_Linear_h = int((first_Linear_h - pool_kernel_size)/pool_stride + 1)\n",
    "first_Linear_w = first_Linear_h\n",
    "# size to first linear layer\n",
    "first_linear_dim = depth2 * first_Linear_h * first_Linear_w\n",
    "\n",
    "model = nn.Sequential(\n",
    "    # 1st Conv layer\n",
    "    nn.Conv2d(3, depth1, kernel_size=filter_size, stride=stride, padding=padding1),\n",
    "    nn.ReLU(inplace=True),\n",
    "    nn.BatchNorm2d(depth1),\n",
    "    # 2nd Conv layer\n",
    "    nn.Conv2d(depth1, depth2, kernel_size=filter_size, stride=stride, padding=padding2),\n",
    "    nn.ReLU(inplace=True),\n",
    "    nn.BatchNorm2d(depth2),\n",
    "    # max pooling\n",
    "    nn.MaxPool2d(kernel_size=pool_kernel_size, stride=pool_stride),\n",
    "    # fully connect layers.\n",
    "    Flatten(),\n",
    "    nn.Linear(first_linear_dim, 1024),\n",
    "    nn.ReLU(inplace=True),\n",
    "    nn.Linear(1024, 10),\n",
    "    nn.LogSoftmax()\n",
    "            ).type(gpu_dtype)\n",
    "\n",
    "loss_fn = nn.CrossEntropyLoss().type(gpu_dtype)\n",
    "optimizer = optim.Adam(model.parameters(), lr=1e-3)\n",
    "\n",
    "accs = []\n",
    "for i in range(1, 10):\n",
    "    train(model, loss_fn, optimizer, num_epochs=1)\n",
    "    print('After %i epoch:' %i)\n",
    "    accs.append(check_accuracy2(model, loader_val))"
   ]
  },
  {
   "cell_type": "code",
   "execution_count": 74,
   "metadata": {
    "collapsed": false
   },
   "outputs": [
    {
     "data": {
      "image/png": "[encoded data removed]",
      "text/plain": [
       "<matplotlib.figure.Figure at 0x7fcc7885f940>"
      ]
     },
     "metadata": {},
     "output_type": "display_data"
    }
   ],
   "source": [
    "plt.plot(list(range(1, 10)), accs, ls='-')\n",
    "plt.title('Validation Accuracy against Number of Epoch')\n",
    "plt.ylabel('Validation Accuracy')\n",
    "plt.xlabel('Number of Epoch')\n",
    "plt.show()"
   ]
  },
  {
   "cell_type": "markdown",
   "metadata": {},
   "source": [
    "8 Epochs has the highest validation accuracy."
   ]
  },
  {
   "cell_type": "code",
   "execution_count": 75,
   "metadata": {
    "collapsed": false
   },
   "outputs": [
    {
     "name": "stdout",
     "output_type": "stream",
     "text": [
      "Starting epoch 1 / 8\n",
      "t = 100, loss = 1.3437\n",
      "t = 200, loss = 1.2599\n",
      "t = 300, loss = 1.2682\n",
      "t = 400, loss = 0.8817\n",
      "t = 500, loss = 1.0253\n",
      "t = 600, loss = 1.0769\n",
      "t = 700, loss = 0.9990\n",
      "Starting epoch 2 / 8\n",
      "t = 100, loss = 0.6501\n",
      "t = 200, loss = 0.7941\n",
      "t = 300, loss = 0.7461\n",
      "t = 400, loss = 0.6899\n",
      "t = 500, loss = 0.6853\n",
      "t = 600, loss = 0.8536\n",
      "t = 700, loss = 0.6216\n",
      "Starting epoch 3 / 8\n",
      "t = 100, loss = 0.2659\n",
      "t = 200, loss = 0.4348\n",
      "t = 300, loss = 0.4656\n",
      "t = 400, loss = 0.3626\n",
      "t = 500, loss = 0.3578\n",
      "t = 600, loss = 0.2422\n",
      "t = 700, loss = 0.3667\n",
      "Starting epoch 4 / 8\n",
      "t = 100, loss = 0.2189\n",
      "t = 200, loss = 0.2008\n",
      "t = 300, loss = 0.2817\n",
      "t = 400, loss = 0.1407\n",
      "t = 500, loss = 0.1734\n",
      "t = 600, loss = 0.2777\n",
      "t = 700, loss = 0.1181\n",
      "Starting epoch 5 / 8\n",
      "t = 100, loss = 0.0811\n",
      "t = 200, loss = 0.0951\n",
      "t = 300, loss = 0.1965\n",
      "t = 400, loss = 0.1367\n",
      "t = 500, loss = 0.1341\n",
      "t = 600, loss = 0.0370\n",
      "t = 700, loss = 0.1258\n",
      "Starting epoch 6 / 8\n",
      "t = 100, loss = 0.0851\n",
      "t = 200, loss = 0.0745\n",
      "t = 300, loss = 0.0903\n",
      "t = 400, loss = 0.0879\n",
      "t = 500, loss = 0.0236\n",
      "t = 600, loss = 0.1477\n",
      "t = 700, loss = 0.0481\n",
      "Starting epoch 7 / 8\n",
      "t = 100, loss = 0.0402\n",
      "t = 200, loss = 0.0441\n",
      "t = 300, loss = 0.0416\n",
      "t = 400, loss = 0.0315\n",
      "t = 500, loss = 0.1739\n",
      "t = 600, loss = 0.0270\n",
      "t = 700, loss = 0.0958\n",
      "Starting epoch 8 / 8\n",
      "t = 100, loss = 0.0736\n",
      "t = 200, loss = 0.1086\n",
      "t = 300, loss = 0.1063\n",
      "t = 400, loss = 0.1253\n",
      "t = 500, loss = 0.0112\n",
      "t = 600, loss = 0.0777\n",
      "t = 700, loss = 0.0195\n",
      "Checking accuracy on validation set\n",
      "Got 718 / 1000 correct (71.80)\n"
     ]
    }
   ],
   "source": [
    "# Train your model here, and make sure the output of this cell is the accuracy of your best model on the \n",
    "# train, val, and test sets. Here's some code to get you started. The output of this cell should be the training\n",
    "# and validation accuracy on your best model (measured by validation accuracy).\n",
    "\n",
    "# 2 conv layers without dropout\n",
    "filter_size = 5; padding1 = 1 # best filter size and padding from the previous experiment for the first conv.\n",
    "padding2 = 0 # no padding for the 2nd conv.\n",
    "depth1 = 32; depth2 = 64 # depth after the 1st and 2nd Conv layer respectively.\n",
    "\n",
    "stride = 1 # stride to take in the conv layer\n",
    "pool_kernel_size = 2; pool_stride = 2 # parameters for the max pooling layer\n",
    "\n",
    "# calculate the size of the input to the first linear layer.\n",
    "first_Linear_h = 32\n",
    "# size after conv layer\n",
    "for i, padding in enumerate([padding1, padding2]):\n",
    "    first_Linear_h = (first_Linear_h - filter_size + 2*padding)/stride + 1\n",
    "# size after max pooling\n",
    "first_Linear_h = int((first_Linear_h - pool_kernel_size)/pool_stride + 1)\n",
    "first_Linear_w = first_Linear_h\n",
    "# size to first linear layer\n",
    "first_linear_dim = depth2 * first_Linear_h * first_Linear_w\n",
    "\n",
    "model = nn.Sequential(\n",
    "    # 1st Conv layer\n",
    "    nn.Conv2d(3, depth1, kernel_size=filter_size, stride=stride, padding=padding1),\n",
    "    nn.ReLU(inplace=True),\n",
    "    nn.BatchNorm2d(depth1),\n",
    "    # 2nd Conv layer\n",
    "    nn.Conv2d(depth1, depth2, kernel_size=filter_size, stride=stride, padding=padding2),\n",
    "    nn.ReLU(inplace=True),\n",
    "    nn.BatchNorm2d(depth2),\n",
    "    # max pooling\n",
    "    nn.MaxPool2d(kernel_size=pool_kernel_size, stride=pool_stride),\n",
    "    # fully connect layers.\n",
    "    Flatten(),\n",
    "    nn.Linear(first_linear_dim, 1024),\n",
    "    nn.ReLU(inplace=True),\n",
    "    nn.Linear(1024, 10),\n",
    "    nn.LogSoftmax()\n",
    "            ).type(gpu_dtype)\n",
    "\n",
    "loss_fn = nn.CrossEntropyLoss().type(gpu_dtype)\n",
    "optimizer = optim.Adam(model.parameters(), lr=1e-3)\n",
    "\n",
    "train(model, loss_fn, optimizer, num_epochs=8)\n",
    "accs.append(check_accuracy2(model, loader_val))"
   ]
  },
  {
   "cell_type": "markdown",
   "metadata": {},
   "source": [
    "### Describe what you did \n",
    "\n",
    "In the cell below you should write an explanation of what you did, any additional features that you implemented, and any visualizations or graphs that you make in the process of training and evaluating your network."
   ]
  },
  {
   "cell_type": "markdown",
   "metadata": {},
   "source": [
    "Tell us here!"
   ]
  },
  {
   "cell_type": "markdown",
   "metadata": {},
   "source": [
    "## Test set -- run this only once\n",
    "\n",
    "Now that we've gotten a result we're happy with, we test our final model on the test set (which you should store in best_model).  This would be the score we would achieve on a competition. Think about how this compares to your validation set accuracy."
   ]
  },
  {
   "cell_type": "code",
   "execution_count": 77,
   "metadata": {
    "collapsed": false
   },
   "outputs": [
    {
     "name": "stdout",
     "output_type": "stream",
     "text": [
      "Checking accuracy on test set\n",
      "Got 6990 / 10000 correct (69.90)\n"
     ]
    }
   ],
   "source": [
    "best_model = copy.deepcopy(model)\n",
    "check_accuracy(best_model, loader_test)"
   ]
  },
  {
   "cell_type": "markdown",
   "metadata": {},
   "source": [
    "## Going further with PyTorch\n",
    "\n",
    "The next assignment will make heavy use of PyTorch. You might also find it useful for your projects. \n",
    "\n",
    "Here's a nice tutorial by Justin Johnson that shows off some of PyTorch's features, like dynamic graphs and custom NN modules: http://pytorch.org/tutorials/beginner/pytorch_with_examples.html\n",
    "\n",
    "If you're interested in reinforcement learning for your final project, this is a good (more advanced) DQN tutorial in PyTorch: http://pytorch.org/tutorials/intermediate/reinforcement_q_learning.html"
   ]
  }
 ],
 "metadata": {
  "kernelspec": {
   "display_name": "Python 3",
   "language": "python",
   "name": "python3"
  },
  "language_info": {
   "codemirror_mode": {
    "name": "ipython",
    "version": 3
   },
   "file_extension": ".py",
   "mimetype": "text/x-python",
   "name": "python",
   "nbconvert_exporter": "python",
   "pygments_lexer": "ipython3",
   "version": "3.6.1"
  },
  "latex_envs": {
   "LaTeX_envs_menu_present": true,
   "autocomplete": true,
   "bibliofile": "biblio.bib",
   "cite_by": "apalike",
   "current_citInitial": 1,
   "eqLabelWithNumbers": true,
   "eqNumInitial": 1,
   "hotkeys": {
    "equation": "Ctrl-E",
    "itemize": "Ctrl-I"
   },
   "labels_anchors": false,
   "latex_user_defs": false,
   "report_style_numbering": false,
   "user_envs_cfg": false
  },
  "toc": {
   "colors": {
    "hover_highlight": "#DAA520",
    "navigate_num": "#000000",
    "navigate_text": "#333333",
    "running_highlight": "#FF0000",
    "selected_highlight": "#FFD700",
    "sidebar_border": "#EEEEEE",
    "wrapper_background": "#FFFFFF"
   },
   "moveMenuLeft": true,
   "nav_menu": {
    "height": "399px",
    "width": "252px"
   },
   "navigate_menu": true,
   "number_sections": true,
   "sideBar": true,
   "threshold": 4,
   "toc_cell": true,
   "toc_section_display": "block",
   "toc_window_display": false,
   "widenNotebook": false
  }
 },
 "nbformat": 4,
 "nbformat_minor": 1
}
